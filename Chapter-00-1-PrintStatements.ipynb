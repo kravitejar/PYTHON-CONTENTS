{
 "cells": [
  {
   "cell_type": "markdown",
   "metadata": {},
   "source": [
    "## Python Basics"
   ]
  },
  {
   "cell_type": "markdown",
   "metadata": {},
   "source": [
    "<h6> Print Statements </h6>"
   ]
  },
  {
   "cell_type": "code",
   "execution_count": 1,
   "metadata": {
    "scrolled": true
   },
   "outputs": [
    {
     "data": {
      "text/plain": [
       "'\\nHello World\\n'"
      ]
     },
     "execution_count": 1,
     "metadata": {},
     "output_type": "execute_result"
    }
   ],
   "source": [
    "'''\n",
    "Hello World\n",
    "'''\n",
    "# Can be used for multiline comments\n"
   ]
  },
  {
   "cell_type": "code",
   "execution_count": 2,
   "metadata": {},
   "outputs": [],
   "source": [
    "# tag stands for comment in python "
   ]
  },
  {
   "cell_type": "code",
   "execution_count": 3,
   "metadata": {},
   "outputs": [
    {
     "name": "stdout",
     "output_type": "stream",
     "text": [
      "\n",
      "\n"
     ]
    },
    {
     "data": {
      "text/plain": [
       "NoneType"
      ]
     },
     "execution_count": 3,
     "metadata": {},
     "output_type": "execute_result"
    }
   ],
   "source": [
    "print()\n",
    "type(print())"
   ]
  },
  {
   "cell_type": "code",
   "execution_count": 4,
   "metadata": {
    "scrolled": true
   },
   "outputs": [
    {
     "name": "stdout",
     "output_type": "stream",
     "text": [
      "Hello World\n",
      "None\n"
     ]
    }
   ],
   "source": [
    "#print(\"Hello World\")\n",
    "a = print(\"Hello World\")\n",
    "print(a)"
   ]
  },
  {
   "cell_type": "code",
   "execution_count": 5,
   "metadata": {},
   "outputs": [
    {
     "name": "stdout",
     "output_type": "stream",
     "text": [
      "Hello World -1\n",
      "None\n"
     ]
    }
   ],
   "source": [
    "a = \"Hello World -1\"\n",
    "b = print(a)\n",
    "print(b)"
   ]
  },
  {
   "cell_type": "code",
   "execution_count": 6,
   "metadata": {},
   "outputs": [
    {
     "name": "stdout",
     "output_type": "stream",
     "text": [
      "1\n"
     ]
    }
   ],
   "source": [
    "print(1)"
   ]
  },
  {
   "cell_type": "markdown",
   "metadata": {},
   "source": [
    "####  pass multiple strings"
   ]
  },
  {
   "cell_type": "code",
   "execution_count": 7,
   "metadata": {},
   "outputs": [
    {
     "name": "stdout",
     "output_type": "stream",
     "text": [
      "Hello World\n"
     ]
    }
   ],
   "source": [
    "print(\"Hello\",\"World\")"
   ]
  },
  {
   "cell_type": "code",
   "execution_count": 8,
   "metadata": {},
   "outputs": [
    {
     "name": "stdout",
     "output_type": "stream",
     "text": [
      "Hello World Welcome To Python 1\n"
     ]
    }
   ],
   "source": [
    "print(\"Hello\",\"World\",\"Welcome\",\"To\",\"Python\", 1 )"
   ]
  },
  {
   "cell_type": "code",
   "execution_count": 9,
   "metadata": {},
   "outputs": [
    {
     "name": "stdout",
     "output_type": "stream",
     "text": [
      "Hello#World#Welcome#To#Python\n"
     ]
    }
   ],
   "source": [
    "print(\"Hello\",\"World\",\"Welcome\",\"To\",\"Python\", sep = \"#\")"
   ]
  },
  {
   "cell_type": "code",
   "execution_count": 10,
   "metadata": {},
   "outputs": [
    {
     "name": "stdout",
     "output_type": "stream",
     "text": [
      "Hello# #World!"
     ]
    }
   ],
   "source": [
    "print(\"Hello\",\"World\", sep = \"# #\", end =\"!\")\n"
   ]
  },
  {
   "cell_type": "markdown",
   "metadata": {},
   "source": [
    "### No values to print statement, prints out a line"
   ]
  },
  {
   "cell_type": "code",
   "execution_count": 11,
   "metadata": {},
   "outputs": [
    {
     "name": "stdout",
     "output_type": "stream",
     "text": [
      "\n",
      "###############\n",
      "\n",
      "\n",
      "###############\n",
      "\n",
      "\n",
      "\n",
      "\n",
      "###############\n"
     ]
    }
   ],
   "source": [
    "print()\n",
    "print(\"###############\")\n",
    "print()\n",
    "print()\n",
    "print(\"###############\")\n",
    "print()\n",
    "print()\n",
    "print()\n",
    "print()\n",
    "print(\"###############\")"
   ]
  },
  {
   "cell_type": "markdown",
   "metadata": {},
   "source": [
    "%s - string\n",
    "%d - integers\n",
    "%f - float or decimal values"
   ]
  },
  {
   "cell_type": "markdown",
   "metadata": {},
   "source": [
    "# C-Style Formatters"
   ]
  },
  {
   "cell_type": "code",
   "execution_count": 11,
   "metadata": {},
   "outputs": [
    {
     "name": "stdout",
     "output_type": "stream",
     "text": [
      "I am  AKSHEY, My age is 17, and I scored  82.34 percent in board exam\n"
     ]
    }
   ],
   "source": [
    "a =\"AKSHEY\"\n",
    "b =17\n",
    "c =82.345\n",
    "\n",
    "print(\"I am  %s, My age is %d, and I scored  %.2f percent in board exam\" %(a,b,c))"
   ]
  },
  {
   "cell_type": "markdown",
   "metadata": {},
   "source": [
    "### Python Format Condition"
   ]
  },
  {
   "cell_type": "code",
   "execution_count": 12,
   "metadata": {},
   "outputs": [
    {
     "name": "stdout",
     "output_type": "stream",
     "text": [
      "I am  BHAVYA SHREE, My age is 17, and I scored 85.234 percent in my board exam\n"
     ]
    }
   ],
   "source": [
    "a =\"BHAVYA SHREE\"\n",
    "b =17\n",
    "c =85.234\n",
    "print(\"I am  {}, My age is {}, and I scored {} percent in my board exam\".format(a,b,c))"
   ]
  },
  {
   "cell_type": "code",
   "execution_count": 13,
   "metadata": {},
   "outputs": [
    {
     "name": "stdout",
     "output_type": "stream",
     "text": [
      "I scored 85.234 percent in board exam, I am  BHAVYA SHREE, My age is 17\n",
      "I scored 85.234 percent in board exam, I am  BHAVYA SHREE, My age is 17\n"
     ]
    }
   ],
   "source": [
    "a =\"BHAVYA SHREE\"\n",
    "b =17\n",
    "c =85.234\n",
    "print(\"I scored {} percent in board exam, I am  {}, My age is {}\".format(c,a,b))\n",
    "print(\"I scored {} percent in board exam, I am  {}, My age is {}\".format(c,a,b))"
   ]
  },
  {
   "cell_type": "code",
   "execution_count": 14,
   "metadata": {},
   "outputs": [
    {
     "name": "stdout",
     "output_type": "stream",
     "text": [
      "I scored 85.234 percent in board exam, I am  AKSHEY, My age is 17\n",
      "I scored 85.234 percent in board exam, I am  BHAVYA SHREE, My age is 17\n"
     ]
    }
   ],
   "source": [
    "a =\"BHAVYA SHREE\"\n",
    "b =17\n",
    "c =85.234\n",
    "d =2\n",
    "print(\"I scored {2} percent in board exam, I am  {0}, My age is {1}\".format(\"AKSHEY\",b,c))\n",
    "print(\"I scored {2} percent in board exam, I am  {0}, My age is {1}\".format(\"BHAVYA SHREE\",b,c))\n"
   ]
  },
  {
   "cell_type": "code",
   "execution_count": 15,
   "metadata": {},
   "outputs": [
    {
     "name": "stdout",
     "output_type": "stream",
     "text": [
      "I scored 82.345 percent in board exam, I am  AKSHEY, My age is 17\n"
     ]
    }
   ],
   "source": [
    "a =\"AKSHEY\"\n",
    "b =17\n",
    "c =82.345\n",
    "print(f\"I scored {c} percent in board exam, I am  {a}, My age is {b}\")"
   ]
  },
  {
   "cell_type": "code",
   "execution_count": null,
   "metadata": {},
   "outputs": [],
   "source": []
  }
 ],
 "metadata": {
  "kernelspec": {
   "display_name": "Python 3",
   "language": "python",
   "name": "python3"
  },
  "language_info": {
   "codemirror_mode": {
    "name": "ipython",
    "version": 3
   },
   "file_extension": ".py",
   "mimetype": "text/x-python",
   "name": "python",
   "nbconvert_exporter": "python",
   "pygments_lexer": "ipython3",
   "version": "3.7.4"
  }
 },
 "nbformat": 4,
 "nbformat_minor": 2
}
