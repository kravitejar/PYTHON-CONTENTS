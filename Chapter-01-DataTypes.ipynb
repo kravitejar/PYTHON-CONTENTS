{
 "cells": [
  {
   "cell_type": "markdown",
   "metadata": {},
   "source": [
    "### Data Types "
   ]
  },
  {
   "cell_type": "markdown",
   "metadata": {},
   "source": [
    "**Numbers**<br>\n",
    "**strings**<br>\n",
    "**List**<br>\n",
    "**Tuple**<br>\n",
    "**Set** <br>\n",
    "**Dictionary**<br>"
   ]
  },
  {
   "cell_type": "markdown",
   "metadata": {},
   "source": [
    "**Numbers**\n",
    "Integers , Float, Complex\n",
    "\n",
    "**String Data Types**\n",
    "\n",
    "Single Line String,\n",
    "Multiline Strings\n",
    "\n",
    "**List **\n",
    "List is ordered sequence of items, Different type of data, ,<br>\n",
    "List is mutable (ie) Value can be changed at anytime by indexing. \n",
    "(ie)\n",
    "<br>\n",
    "ways of initiating\n",
    "a = [1,2], a= list(1,2)\n",
    "<br>\n",
    "**Tuple**\n",
    "It is also having different type of data.\n",
    "It's immutable, Value can't be changed with indexing.\n",
    "<br> \n",
    "ways of initiating\n",
    "<br>\n",
    "a =(1,2),a = tuple(1,2) \n",
    "<br>\n",
    "a =1,2\n",
    "<br>\n",
    "**Set** \n",
    "Unordered Collection of unique type of data or similar type of data.\n",
    "<br> \n",
    "ways of initiating\n",
    "<br>\n",
    "a = {1,2},a = set(1,2)\n",
    "<br>\n",
    "**Dictionary**\n",
    "Dictionary is collection of key, value pairs\n",
    "<br> \n",
    "ways of initiating\n",
    "<br>a = {1:\"1\",\"2\":2}\n",
    "<br>a = {} \n",
    "<br>a = dict({1:\"2\",\"2\":4})\n"
   ]
  },
  {
   "cell_type": "markdown",
   "metadata": {},
   "source": [
    "### Type conversion in python"
   ]
  },
  {
   "cell_type": "code",
   "execution_count": 2,
   "metadata": {},
   "outputs": [
    {
     "name": "stdout",
     "output_type": "stream",
     "text": [
      "2.12345 <class 'float'>\n",
      "2 <class 'int'>\n",
      "2.12345 <class 'str'>\n",
      "None <class 'NoneType'>\n",
      "##########\n",
      "True <class 'bool'>\n",
      "False <class 'bool'>\n",
      "##########\n",
      "None <class 'NoneType'>\n",
      "False <class 'bool'>\n"
     ]
    }
   ],
   "source": [
    "a =2.12345\n",
    "print(a, type(a))\n",
    "b = int(a)\n",
    "print(b,type(b))\n",
    "c= str(a)\n",
    "#c =\"a\"\n",
    "print(c, type(c))\n",
    "c1 = None\n",
    "print(c1, type(c1))\n",
    "print(\"##########\")\n",
    "d= bool(c)\n",
    "print(d, type(d))\n",
    "d1 = bool(c1)\n",
    "print(d1, type(d1))\n",
    "print(\"##########\")\n",
    "e = None # Nothing or null or No value\n",
    "print(e, type(e))\n",
    "f = bool(e)\n",
    "\n",
    "print(f, type(f))"
   ]
  },
  {
   "cell_type": "code",
   "execution_count": 4,
   "metadata": {},
   "outputs": [
    {
     "name": "stdout",
     "output_type": "stream",
     "text": [
      "0o21\n",
      "0x11\n"
     ]
    }
   ],
   "source": [
    "a = 17\n",
    "b = oct(a)\n",
    "print(b)\n",
    "c = hex(a)\n",
    "print(c)\n",
    "#b = int(\"17\",16)\n",
    "#print(b)"
   ]
  },
  {
   "cell_type": "markdown",
   "metadata": {},
   "source": [
    "**Numbers Data Type **\n"
   ]
  },
  {
   "cell_type": "code",
   "execution_count": 5,
   "metadata": {},
   "outputs": [
    {
     "name": "stdout",
     "output_type": "stream",
     "text": [
      "<class 'int'>\n",
      "<class 'float'>\n",
      "<class 'complex'>\n",
      "<class 'complex'>\n",
      "<class 'str'>\n",
      "7.0\n",
      "(3+2j)\n",
      "(8+2j)\n",
      "(9+3j)\n",
      "(1+1j)1\n"
     ]
    }
   ],
   "source": [
    "a= 5\n",
    "b= 2.0\n",
    "c= 1.0+2j\n",
    "d = 1+1j\n",
    "e =\"1\"\n",
    "print(type(a))\n",
    "print(type(b))\n",
    "print(type(c))\n",
    "print(type(d))\n",
    "print(type(e))\n",
    "print(a+b)\n",
    "print(b+c)\n",
    "print(a+b+c)\n",
    "print(a+b+c+d)\n",
    "print(str(d)+e) # arithmetic operation is not possible between different operand types int and str"
   ]
  },
  {
   "cell_type": "markdown",
   "metadata": {},
   "source": [
    "**String**\n"
   ]
  },
  {
   "cell_type": "markdown",
   "metadata": {},
   "source": [
    "**String Can be multiline or single line** <br>\n",
    "**Single Line String wrapped in single quotes/double quotes**<br>\n",
    "a = \"Hello, welcome to python\"<br>\n",
    "b = 'Hello, welcome to python'<br>\n",
    "    <b>\n",
    "    <i>\n",
    "    <u>Multiline String</u>\n",
    "    </i>\n",
    "    </b>\n",
    "    <br>\n",
    "    <br>\n",
    "    <br>\n",
    "Multi_a = \"\"\"This is a multiline string <br>\n",
    "            which contains multiple lines of data<br>\n",
    "            It has to be enclosed in three sets of single/double quotes\"\"\"<br>\n",
    "            <br>\n",
    "            <br>\n",
    "            <br>\n",
    "Multi_a = '''This is a multiline string <br>\n",
    "            which contains multiple lines of data<br>\n",
    "            It has to be enclosed in three sets of single/double quotes'''<br>\n",
    "#Escape Sequence\n",
    "escape_doublequote = \"Hello\\\", welcome to python\"\n",
    "print(escape_doublequote)\n",
    "    "
   ]
  },
  {
   "cell_type": "code",
   "execution_count": 7,
   "metadata": {
    "scrolled": true
   },
   "outputs": [
    {
     "name": "stdout",
     "output_type": "stream",
     "text": [
      "#########################Single Line String########################\n",
      "<class 'str'>\n",
      "Hello welcome \\ to python\n",
      "Hello\", welcome to python\n",
      "######################### Escape Sequences########################\n",
      "Escape Sequence \"\n",
      "Escape Sequence \\\n",
      "Hello\", welcome to python\n",
      "Hello \\ , welcome to python_1\n",
      "Hello', welcome to python\n",
      "#########################Multiline Strings########################\n",
      "This is a multiline string \n",
      "            which contains multiple lines of data\n",
      "            It has to be enclosed in three sets of single/double quotes\n",
      "This is a multil'ine string \n",
      "            which contains mult'iple lines of data\n",
      "            It has to be enclose'd in \"\"\" three sets of single/double quotes\n",
      "Hello\", welcome to python\n"
     ]
    }
   ],
   "source": [
    "#Single Line String\n",
    "print(\"#########################Single Line String########################\")\n",
    "\n",
    "a = \"Hello welcome \\\\ to python\"\n",
    "print(type(a)) \n",
    "print(a)\n",
    "b = 'Hello\", welcome to python'\n",
    "print(b)\n",
    "print(\"######################### Escape Sequences########################\")\n",
    "\n",
    "print(\"Escape Sequence \\\"\")\n",
    "print(\"Escape Sequence \\\\\")\n",
    "\n",
    "a = \"Hello\\\", welcome to python\"\n",
    "print(a)\n",
    "a = \"Hello \\ , welcome to python_1\"\n",
    "print(a)\n",
    "b = 'Hello\\', welcome to python'\n",
    "print(b)\n",
    "print(\"#########################Multiline Strings########################\")\n",
    "#Multiline String\n",
    "Multi_a = \"\"\"This is a multiline string \n",
    "            which contains multiple lines of data\n",
    "            It has to be enclosed in three sets of single/double quotes\"\"\"\n",
    "#anything here is a comment\n",
    "Multi_b = '''This is a multil'ine string \n",
    "            which contains mult'iple lines of data\n",
    "            It has to be enclose'd in \"\"\" three sets of single/double quotes'''\n",
    "\n",
    "print(Multi_a)\n",
    "print(Multi_b)\n",
    "#Escape Sequence\n",
    "escape_doublequote = \"Hello\\\", welcome to python\"\n",
    "print(escape_doublequote)"
   ]
  },
  {
   "cell_type": "markdown",
   "metadata": {},
   "source": [
    "<h3>Methods in String Data Type</h3>\n",
    "<ol type = \"A\">\n",
    "    <li>Capitalize</li>\n",
    "    <li>Casefold</li>\n",
    "    <li>Center</li>\n",
    "    <li>Count</li>\n",
    "    <li>Encode</li>\n",
    "    <li>Endswith</li>\n",
    "    <li>Expandtabs</li>\n",
    "    <li>Find</li>\n",
    "    <li>Split</li>\n",
    "    <li>Rsplit</li>\n",
    "    <li>Splitlines</li>\n",
    "    <li>Title</li>\n",
    "    <li>Index</li>\n",
    "    <li>Isalnum</li>\n",
    "    <li>Isalpha</li>\n",
    "    <li>Isdecimal</li>\n",
    "    <li>Rpartition</li>\n",
    "    <li>Substring</li> \n",
    "    <li>Lower</li>\n",
    "    <li>Upper</li>\n",
    "    <li>Strip</li>\n",
    "    <li>RStrip</li>\n",
    "    <li>LStrip</li>\n",
    "</ol>\n",
    "\n"
   ]
  },
  {
   "cell_type": "code",
   "execution_count": 8,
   "metadata": {
    "scrolled": true
   },
   "outputs": [
    {
     "name": "stdout",
     "output_type": "stream",
     "text": [
      "Welcome to python\n"
     ]
    }
   ],
   "source": [
    "# Capitalize - capitalizes the start of the string \n",
    "a =\"welcome to python\"\n",
    "b = a.capitalize()\n",
    "print(b)"
   ]
  },
  {
   "cell_type": "code",
   "execution_count": 99,
   "metadata": {},
   "outputs": [
    {
     "name": "stdout",
     "output_type": "stream",
     "text": [
      "hello world\n",
      "hello world\n"
     ]
    }
   ],
   "source": [
    "# case fold -  Converts all the characters to lower\n",
    "#c = \"123Hello\"\n",
    "a = \"HeLlO worLd\"\n",
    "b = a.casefold()\n",
    "\n",
    "print(b)\n",
    "print(b.casefold())\n"
   ]
  },
  {
   "cell_type": "code",
   "execution_count": 12,
   "metadata": {},
   "outputs": [
    {
     "name": "stdout",
     "output_type": "stream",
     "text": [
      "this is python world\n",
      "True\n"
     ]
    }
   ],
   "source": [
    "#Lower - Converts all the characters to lower case\n",
    "a = \"THis is Python WorlD\"\n",
    "b =  a.lower()\n",
    "print(b)\n",
    "print(b.islower())"
   ]
  },
  {
   "cell_type": "code",
   "execution_count": 13,
   "metadata": {},
   "outputs": [
    {
     "name": "stdout",
     "output_type": "stream",
     "text": [
      "THIS IS PYTHON WORLD\n",
      "True\n"
     ]
    }
   ],
   "source": [
    "#Upper - Converts all the characters to Upper case\n",
    "a = \"THis is Python WorlD\"\n",
    "b =  a.upper()\n",
    "print(b)\n",
    "print(b.isupper())"
   ]
  },
  {
   "cell_type": "code",
   "execution_count": 11,
   "metadata": {},
   "outputs": [
    {
     "name": "stdout",
     "output_type": "stream",
     "text": [
      "This Is Python World\n",
      "True\n"
     ]
    }
   ],
   "source": [
    "#Title - Converts string into camel case\n",
    "a = \"THis is PyThOn WorlD\"\n",
    "b =  a.title()\n",
    "print(b)\n",
    "print(b.istitle())"
   ]
  },
  {
   "cell_type": "code",
   "execution_count": 14,
   "metadata": {
    "scrolled": true
   },
   "outputs": [
    {
     "name": "stdout",
     "output_type": "stream",
     "text": [
      "5\n",
      "       India        \n",
      "@@@@@@@India@@@@@@@@\n",
      "$$$India$$$\n",
      "       Russia       \n",
      "$$$$$$$Russia$$$$$$$\n",
      "$$$Russia$$\n"
     ]
    }
   ],
   "source": [
    "#Center\n",
    "mytext = \"India\"\n",
    "print(len(mytext))\n",
    "AB =20\n",
    "centermytext = mytext.center(AB)\n",
    "print(centermytext)\n",
    "centermytext = mytext.center(AB,\"@\")\n",
    "print(centermytext)\n",
    "centermytext = mytext.center(11,\"$\")\n",
    "print(centermytext)\n",
    "mytext = \"Russia\"\n",
    "centermytext = mytext.center(20)\n",
    "print(centermytext)\n",
    "centermytext = mytext.center(20,\"$\")\n",
    "print(centermytext)\n",
    "centermytext = mytext.center(11,\"$\")\n",
    "print(centermytext)\n"
   ]
  },
  {
   "cell_type": "code",
   "execution_count": 15,
   "metadata": {},
   "outputs": [
    {
     "name": "stdout",
     "output_type": "stream",
     "text": [
      "Hellolllll $\n",
      "He$$o$$$$$ $\n",
      "He$$$$$$$ $\n",
      "He \n"
     ]
    }
   ],
   "source": [
    "## Replace\n",
    "a = \"Hellolllll World\"\n",
    "a = a.replace(\"World\",\"$\")\n",
    "print(a)\n",
    "a = a.replace(\"l\",\"$\")\n",
    "print(a)\n",
    "#a = a.replace(\"Hi\",\"Hello\")\n",
    "#print(a)\n",
    "a = a.replace(\"o\",\"\")\n",
    "print(a)\n",
    "a = a.replace(\"$\",\"\")\n",
    "print(a)"
   ]
  },
  {
   "cell_type": "code",
   "execution_count": 17,
   "metadata": {},
   "outputs": [
    {
     "name": "stdout",
     "output_type": "stream",
     "text": [
      "2\n",
      "20\n",
      "6\n",
      "7\n",
      "Find from right\n",
      "17\n",
      "-1\n",
      "17\n"
     ]
    }
   ],
   "source": [
    "#Find \n",
    "mytext  = \"python is a best is language\"\n",
    "result =   mytext.find(\"thon\")\n",
    "print(result)\n",
    "result = mytext.find(\"language\")\n",
    "print(result)\n",
    "result = mytext.find(\" \")\n",
    "print(result)\n",
    "result = mytext.find(\"is\")\n",
    "print(result)\n",
    "print(\"Find from right\")\n",
    "result = mytext.rfind(\"is\")\n",
    "print(result)\n",
    "## when the data is not available it will result to -1 in find method\n",
    "result = mytext.find(\"India\")\n",
    "print(result)\n",
    "result = mytext.rfind(\"is\")\n",
    "print(result)"
   ]
  },
  {
   "cell_type": "code",
   "execution_count": 18,
   "metadata": {},
   "outputs": [
    {
     "name": "stdout",
     "output_type": "stream",
     "text": [
      "0\n",
      "18\n",
      "10\n",
      "23\n"
     ]
    },
    {
     "ename": "ValueError",
     "evalue": "substring not found",
     "output_type": "error",
     "traceback": [
      "\u001b[1;31m---------------------------------------------------------------------------\u001b[0m",
      "\u001b[1;31mValueError\u001b[0m                                Traceback (most recent call last)",
      "\u001b[1;32m<ipython-input-18-78c3529e1678>\u001b[0m in \u001b[0;36m<module>\u001b[1;34m\u001b[0m\n\u001b[0;32m     11\u001b[0m \u001b[0mresult\u001b[0m \u001b[1;33m=\u001b[0m \u001b[0mmytext\u001b[0m\u001b[1;33m.\u001b[0m\u001b[0mrindex\u001b[0m\u001b[1;33m(\u001b[0m\u001b[1;34m\"a\"\u001b[0m\u001b[1;33m)\u001b[0m\u001b[1;33m\u001b[0m\u001b[1;33m\u001b[0m\u001b[0m\n\u001b[0;32m     12\u001b[0m \u001b[0mprint\u001b[0m\u001b[1;33m(\u001b[0m\u001b[0mresult\u001b[0m\u001b[1;33m)\u001b[0m\u001b[1;33m\u001b[0m\u001b[1;33m\u001b[0m\u001b[0m\n\u001b[1;32m---> 13\u001b[1;33m \u001b[0mresult\u001b[0m \u001b[1;33m=\u001b[0m \u001b[0mmytext\u001b[0m\u001b[1;33m.\u001b[0m\u001b[0mindex\u001b[0m\u001b[1;33m(\u001b[0m\u001b[1;34m\"abc\"\u001b[0m\u001b[1;33m)\u001b[0m\u001b[1;33m\u001b[0m\u001b[1;33m\u001b[0m\u001b[0m\n\u001b[0m\u001b[0;32m     14\u001b[0m \u001b[0mprint\u001b[0m\u001b[1;33m(\u001b[0m\u001b[0mresult\u001b[0m\u001b[1;33m)\u001b[0m\u001b[1;33m\u001b[0m\u001b[1;33m\u001b[0m\u001b[0m\n\u001b[0;32m     15\u001b[0m \u001b[1;33m\u001b[0m\u001b[0m\n",
      "\u001b[1;31mValueError\u001b[0m: substring not found"
     ]
    }
   ],
   "source": [
    "#Index - Check the occurence of a string in a string and returns its index position\n",
    "mytext  = \"python is a best  language\"\n",
    "\n",
    "\n",
    "result =   mytext.index(\"python\")\n",
    "print(result)\n",
    "result = mytext.index(\"language\")\n",
    "print(result)\n",
    "result = mytext.index(\"a\")\n",
    "print(result) \n",
    "result = mytext.rindex(\"a\")\n",
    "print(result) \n",
    "result = mytext.index(\"abc\")\n",
    "print(result) \n",
    "\n"
   ]
  },
  {
   "cell_type": "code",
   "execution_count": 19,
   "metadata": {},
   "outputs": [
    {
     "name": "stdout",
     "output_type": "stream",
     "text": [
      "0\n",
      "17\n",
      "33\n"
     ]
    }
   ],
   "source": [
    "def findallpythonpositions(searchstring,searchtext):\n",
    "    intialfindpos = 0\n",
    "    for x in range(searchstring.count(searchtext)):\n",
    "        startindex = searchstring.find(searchtext)\n",
    "        print(startindex + intialfindpos)\n",
    "        endindex = searchstring.find(searchtext) + len(searchtext)\n",
    "        intialfindpos = intialfindpos + endindex\n",
    "        searchstring = searchstring[endindex:]\n",
    "        #print(searchstring)                                      \n",
    "\n",
    "mytext  = \"python is a best python language python\"\n",
    "searchtext = \"python\"                                        \n",
    "findallpythonpositions(mytext,searchtext)"
   ]
  },
  {
   "cell_type": "code",
   "execution_count": 20,
   "metadata": {},
   "outputs": [
    {
     "name": "stdout",
     "output_type": "stream",
     "text": [
      "Enter the string where you want to searchHello\n",
      "Enter the string which you want to searchl\n",
      "2\n",
      "3\n"
     ]
    }
   ],
   "source": [
    "searchablestring = input(\"Enter the string where you want to search\")\n",
    "searchstring = input(\"Enter the string which you want to search\")\n",
    "findallpythonpositions(searchablestring,searchstring)"
   ]
  },
  {
   "cell_type": "code",
   "execution_count": 21,
   "metadata": {},
   "outputs": [
    {
     "name": "stdout",
     "output_type": "stream",
     "text": [
      "2\n",
      "all occurence count 2 World\n",
      "occurence between 20th index and end of string count is 1\n",
      "occurence between 14th index and 20th index count is  1\n",
      "occurence of entire string 1\n",
      " \n",
      " Welcome - Count - 1\n",
      " \n",
      " to - Count - 3\n",
      " \n",
      " my - Count - 1\n",
      " \n",
      " World, - Count - 1\n",
      " \n",
      " The - Count - 1\n",
      " \n",
      " World - Count - 2\n",
      " \n",
      " is - Count - 1\n",
      " \n",
      " too - Count - 1\n",
      " \n",
      " good - Count - 1\n",
      " \n",
      " to - Count - 3\n",
      " \n",
      " live - Count - 1\n"
     ]
    }
   ],
   "source": [
    "#Count \n",
    "infotext  = \"Welcome to my World, The World is too good to live\"\n",
    "infotext_1  = \"Welcome to my World, The World is too good to live\"\n",
    "print(infotext.count(\"World\"))\n",
    "result = infotext.count(\"World\")\n",
    "print(\"all occurence count %d %s\" %(result,\"World\"))\n",
    "result = infotext.count(\"World\",20)\n",
    "print(\"occurence between 20th index and end of string count is %d\" %result)\n",
    "result = infotext.count(\"World\",14,20)\n",
    "print(\"occurence between 14th index and 20th index count is  %d\" %result)\n",
    "result = infotext.count(infotext)\n",
    "print(\"occurence of entire string {0}\".format(result))\n",
    "#Note: \n",
    "#Calculate the count of all words in the given string \n",
    "[print( \" \\n \"+ x + \" - Count - {}\".format(infotext.count(x))) for x in infotext.split()]\n",
    "None"
   ]
  },
  {
   "cell_type": "code",
   "execution_count": null,
   "metadata": {},
   "outputs": [],
   "source": [
    "print(\"Hi\")"
   ]
  },
  {
   "cell_type": "code",
   "execution_count": 24,
   "metadata": {
    "scrolled": false
   },
   "outputs": [
    {
     "name": "stdout",
     "output_type": "stream",
     "text": [
      "H\n",
      "P\n",
      "#################################\n",
      "Hello\n",
      "Hello \n",
      "Python\n",
      " Python\n",
      "ytho\n",
      "#### start index is greater than end ####\n",
      "\n",
      "##################################\n",
      "Hello Python\n",
      "nohtyP olleH\n",
      "##################################\n",
      "\n",
      "Hello Python\n",
      "###############Indexing with step##################\n",
      "HloPto\n",
      "###################################\n",
      "HlPh\n",
      "Hello Python\n",
      "HloPto\n",
      "#####################################\n",
      "HlPh\n",
      "nohtyP olleH\n",
      "nhy le\n"
     ]
    }
   ],
   "source": [
    "#Substring\n",
    "#: stands for sequence\n",
    "#[] stands for the position holders\n",
    "#value before the : is the start sequence, after the colon is the end sequence\n",
    "# start: end: step\n",
    "TestString = \"Hello Python\" \n",
    "print(TestString[0])\n",
    "print(TestString[6])\n",
    "print(\"#################################\")\n",
    "\n",
    "print(TestString[0:5])\n",
    "print(TestString[:6])\n",
    "print(TestString[6:15])\n",
    "print(TestString[5:])\n",
    "\n",
    "print(TestString[-5:-1])\n",
    "\n",
    "print(\"#### start index is greater than end ####\")\n",
    "print(TestString[-1:-5])\n",
    "\n",
    "#print(TestString[::-1])\n",
    "print(\"##################################\")\n",
    "print(\"Hello Python\")\n",
    "print(TestString[::-1])\n",
    "print(\"##################################\")\n",
    "print(TestString[-3:-5])\n",
    "print(TestString[:])\n",
    "print(\"###############Indexing with step##################\")\n",
    "print(TestString[:-1:2])\n",
    "print(\"###################################\")\n",
    "print(TestString[0:-1:3])\n",
    "#Reverse a string\n",
    "print(TestString[::1])\n",
    "print(TestString[::2])\n",
    "print(\"#####################################\")\n",
    "print(TestString[::3])\n",
    "print(TestString[::-1])\n",
    "print(TestString[::-2])"
   ]
  },
  {
   "cell_type": "code",
   "execution_count": 125,
   "metadata": {},
   "outputs": [
    {
     "name": "stdout",
     "output_type": "stream",
     "text": [
      "myalpa string is alpha - True\n",
      "myalphanumeric string is alpha - False\n",
      "mynotalphanumeric string is alpha - False\n",
      "mydecimal string is alpha - False\n",
      "\n",
      "\n",
      "myalpa string is alphanumeric - True\n",
      "myalphanumeric string is alphanumeric - True\n",
      "mynotalphanumeric string is alphanumeric - False\n",
      "mydecimal string is alphanumeric - True\n",
      "\n",
      "\n",
      "myalpa string is decimal - False\n",
      "myalphanumeric string is decimal - False\n",
      "mynotalphanumeric string is decimal - False\n",
      "mydecimal string is decimal - True\n"
     ]
    }
   ],
   "source": [
    "#Alpha, Alphanumeric and Decimal Checking\n",
    "myalpha =\"abcd\" #contains characters [a-zA-Z]\n",
    "myalphanumeric = \"abcdef123\" #contains characters [a-zA-Z0-9]\n",
    "mynotalphanumeric= \"&abcdef123\" # Not fitting all three cases (Contain a symbol)\n",
    "mydecimal =\"123\" #contains characters [0-9]\n",
    "\n",
    "print(\"myalpa string is alpha - {}\".format(myalpha.isalpha()))\n",
    "print(\"myalphanumeric string is alpha - {}\".format(myalphanumeric.isalpha()))\n",
    "print(\"mynotalphanumeric string is alpha - {}\".format(mynotalphanumeric.isalpha()))\n",
    "print(\"mydecimal string is alpha - {}\".format(mydecimal.isalpha()))\n",
    "print(\"\\n\")\n",
    "print(\"myalpa string is alphanumeric - {}\".format(myalpha.isalnum()))\n",
    "print(\"myalphanumeric string is alphanumeric - {}\".format(myalphanumeric.isalnum()))\n",
    "print(\"mynotalphanumeric string is alphanumeric - {}\".format(mynotalphanumeric.isalnum()))\n",
    "print(\"mydecimal string is alphanumeric - {}\".format(mydecimal.isalnum()))\n",
    "print(\"\\n\")\n",
    "print(\"myalpa string is decimal - {}\".format(myalpha.isdecimal()))\n",
    "print(\"myalphanumeric string is decimal - {}\".format(myalphanumeric.isdecimal()))\n",
    "print(\"mynotalphanumeric string is decimal - {}\".format(mynotalphanumeric.isdecimal()))\n",
    "print(\"mydecimal string is decimal - {}\".format(mydecimal.isdecimal()))"
   ]
  },
  {
   "cell_type": "code",
   "execution_count": 26,
   "metadata": {},
   "outputs": [
    {
     "name": "stdout",
     "output_type": "stream",
     "text": [
      "######################\n",
      "True\n",
      "######################\n",
      "me to Python\n",
      "False\n",
      "######################\n",
      "Welcome \n",
      "True\n",
      "######################\n",
      "################-EndsWith-######################\n",
      "True\n",
      "######################\n",
      "Welcome\n",
      "True\n",
      "######################\n",
      "lcome \n",
      "False\n",
      "######################\n",
      "Welcome \n",
      "True\n",
      "False\n"
     ]
    }
   ],
   "source": [
    "#Startswith, #Endswith\n",
    "\n",
    "infotext =  \"Welcome to Python\"\n",
    "\n",
    "print(\"######################\")\n",
    "print(infotext.startswith(\"Welcome\"))\n",
    "print(\"######################\")\n",
    "print(infotext[5:])\n",
    "print(infotext.startswith(\"Welcome\",5))\n",
    "print(\"######################\")\n",
    "print(infotext[0:8])\n",
    "print(infotext.startswith(\"Welcome\",0,8))\n",
    "print(\"######################\")\n",
    "print(\"################-EndsWith-######################\")\n",
    "print(infotext.endswith(\"Python\"))\n",
    "print(\"######################\")\n",
    "print(infotext[0:7])\n",
    "print(infotext.endswith(\"Welcome\",0,7)) \n",
    "print(\"######################\")\n",
    "print(infotext[2:8])\n",
    "print(infotext.endswith(\"Welcome\",2,7))\n",
    "print(\"######################\")\n",
    "\n",
    "infotext1 =  \"Welcome to Python \"\n",
    "print(infotext1[0:8])\n",
    "print(infotext1.startswith(\"Welcome\",0,8))\n",
    "print(infotext1.endswith(\"Welcome\",0,8))\n"
   ]
  },
  {
   "cell_type": "code",
   "execution_count": 129,
   "metadata": {},
   "outputs": [
    {
     "name": "stdout",
     "output_type": "stream",
     "text": [
      "welcome to my world1\n",
      "welcome to \n",
      " my w\t o\t rld\t2\n",
      "welcome to m\ty\two\trld\t3\n",
      "#################################\n",
      "H\te\tl\tl\to\n",
      "Hello\n",
      "H e l l o\n",
      "H   e   l   l   o\n",
      "H    e    l    l    o\n",
      "H     e     l     l     o\n",
      "H       e       l       l       o\n",
      "H                   e                   l                   l                   o\n",
      "\n",
      "\n"
     ]
    }
   ],
   "source": [
    "print(\"welcome to my world1\")\n",
    "print(\"welcome to \\n my w\\t o\\t rld\\t2\")\n",
    "print(\"welcome to m\\ty\\two\\trld\\t3\")\n",
    "    #\n",
    "# Expand Tabs \n",
    "#===============================================================================\n",
    "#mytabbedstring = \"H    e    l    l    o\"\n",
    "\n",
    "print(\"#################################\")\n",
    "mytabbedstring = \"H\\te\\tl\\tl\\to\"\n",
    "print(mytabbedstring)\n",
    "print(mytabbedstring.expandtabs(0))\n",
    "print(mytabbedstring.expandtabs(2))\n",
    "print(mytabbedstring.expandtabs(4))\n",
    "print(mytabbedstring.expandtabs(tabsize = 5))\n",
    "print(mytabbedstring.expandtabs(6))\n",
    "print(mytabbedstring.expandtabs(8))\n",
    "print(mytabbedstring.expandtabs(20))\n",
    "print(\"\\n\")"
   ]
  },
  {
   "cell_type": "code",
   "execution_count": 28,
   "metadata": {},
   "outputs": [
    {
     "name": "stdout",
     "output_type": "stream",
     "text": [
      "['apple,orange,', 'grapes,', 'guava,', 'pineapple']\n",
      "['apple', 'orange', ' grapes', ' guava', ' pineapple']\n",
      "['apple', 'orange', ' grapes, guava, pineapple']\n"
     ]
    }
   ],
   "source": [
    "#Split\n",
    "Fruits = \"apple,orange, grapes, guava, pineapple\"\n",
    "#Split(\"characterseparator\",max) max  -maximum no of times to split\n",
    "AllFruits = Fruits.split()\n",
    "print(AllFruits)\n",
    "AllFruits = Fruits.split(\",\")\n",
    "print(AllFruits)\n",
    "ThreeFruits = Fruits.split(\",\",2)\n",
    "print(ThreeFruits)"
   ]
  },
  {
   "cell_type": "code",
   "execution_count": 29,
   "metadata": {},
   "outputs": [
    {
     "name": "stdout",
     "output_type": "stream",
     "text": [
      "apple and orange and  grapes, guava, pineapple\n",
      "apple and orange and  grapes and  guava and  pineapple\n"
     ]
    }
   ],
   "source": [
    "print(' and '.join(ThreeFruits))\n",
    "print(' and '.join(AllFruits))"
   ]
  },
  {
   "cell_type": "code",
   "execution_count": 32,
   "metadata": {},
   "outputs": [
    {
     "name": "stdout",
     "output_type": "stream",
     "text": [
      "['India is a vast South Asian country with diverse terrain –\\n', '                from Himalayan peaks to Indian Ocean coastline – and history reaching back 5 millennia.\\n', '                In the north, Mughal Empire landmarks include Delhi’s Red Fort complex\\n', '                and massive Jama Masjid mosque, plus Agra’s iconic Taj Mahal mausoleum. \\n', '                Pilgrims bathe in the Ganges in Varanasi,and Rishikesh is a yoga centre and base for Himalayan trekking.']\n",
      "#############################\n",
      "India is a vast South Asian country with diverse terrain –\n",
      "\n",
      "                from Himalayan peaks to Indian Ocean coastline – and history reaching back 5 millennia.\n",
      "\n",
      "                In the north, Mughal Empire landmarks include Delhi’s Red Fort complex\n",
      "\n",
      "                and massive Jama Masjid mosque, plus Agra’s iconic Taj Mahal mausoleum. \n",
      "\n",
      "                Pilgrims bathe in the Ganges in Varanasi,and Rishikesh is a yoga centre and base for Himalayan trekking.\n",
      "#############################\n",
      "['India is a vast South Asian country with diverse terrain –', '                from Himalayan peaks to Indian Ocean coastline – and history reaching back 5 millennia.', '                In the north, Mughal Empire landmarks include Delhi’s Red Fort complex', '                and massive Jama Masjid mosque, plus Agra’s iconic Taj Mahal mausoleum. ', '                Pilgrims bathe in the Ganges in Varanasi,and Rishikesh is a yoga centre and base for Himalayan trekking.']\n",
      "#############################\n",
      "India is a vast South Asian country with diverse terrain –\n",
      "                from Himalayan peaks to Indian Ocean coastline – and history reaching back 5 millennia.\n",
      "                In the north, Mughal Empire landmarks include Delhi’s Red Fort complex\n",
      "                and massive Jama Masjid mosque, plus Agra’s iconic Taj Mahal mausoleum. \n",
      "                Pilgrims bathe in the Ganges in Varanasi,and Rishikesh is a yoga centre and base for Himalayan trekking.\n"
     ]
    },
    {
     "data": {
      "text/plain": [
       "[None, None, None, None, None]"
      ]
     },
     "execution_count": 32,
     "metadata": {},
     "output_type": "execute_result"
    }
   ],
   "source": [
    "#Split Lines \n",
    "multilinestring = \"\"\"India is a vast South Asian country with diverse terrain –\n",
    "                from Himalayan peaks to Indian Ocean coastline – and history reaching back 5 millennia.\n",
    "                In the north, Mughal Empire landmarks include Delhi’s Red Fort complex\n",
    "                and massive Jama Masjid mosque, plus Agra’s iconic Taj Mahal mausoleum. \n",
    "                Pilgrims bathe in the Ganges in Varanasi,and Rishikesh is a yoga centre and base for Himalayan trekking.\"\"\"\n",
    "\n",
    "Y  = multilinestring.splitlines(True)# True -> preseve new line character\n",
    "print(Y)\n",
    "print(\"#############################\")\n",
    "for x in Y:\n",
    "    print(x)\n",
    "print(\"#############################\")\n",
    "IgnoreNewlineCharacter = multilinestring.splitlines()# Default the New line will be ignored -- False\n",
    "print(IgnoreNewlineCharacter)\n",
    "print(\"#############################\")\n",
    "[print(x) for x in IgnoreNewlineCharacter]"
   ]
  },
  {
   "cell_type": "code",
   "execution_count": 34,
   "metadata": {},
   "outputs": [
    {
     "name": "stdout",
     "output_type": "stream",
     "text": [
      "('this is ', 'my', ' world, my people will live here 123')\n",
      "######################\n",
      "('this is my world, my people will live here ', '123', '')\n",
      "######################\n",
      "('Welcome to my ', 'World', ', The World is too good to live')\n",
      "######################\n",
      "['Welcome to my ', ', The ', ' is too good to live']\n",
      "######################\n"
     ]
    }
   ],
   "source": [
    "#Partition - Splits the string as  before match, match and after match, returns it as a tuple\n",
    "infotext  = \"this is my world, my people will live here 123\"\n",
    "result = infotext.partition(\"my\")\n",
    "print(result)\n",
    "print(\"######################\")\n",
    "result = infotext.partition(\"123\")\n",
    "print(result)\n",
    "print(\"######################\")\n",
    "infotext  = \"Welcome to my World, The World is too good to live\"\n",
    "result = infotext.partition(\"World\")\n",
    "print(result)\n",
    "print(\"######################\")\n",
    "print(infotext.split(\"World\"))\n",
    "print(\"######################\")\n"
   ]
  },
  {
   "cell_type": "code",
   "execution_count": 36,
   "metadata": {},
   "outputs": [
    {
     "name": "stdout",
     "output_type": "stream",
     "text": [
      "Ode on a Grecian Urts\n",
      "Ode on a Grecian Urts \n",
      " Ode on a Grecian Urts\n",
      "################\n",
      "????... Ode on a Grecian Urtsssss\n",
      "????... Ode on a Grecian Urtsssss ....,,,\n",
      ",,,,,????... Ode on a Grecian Urt\n"
     ]
    }
   ],
   "source": [
    "#Strip Operations\n",
    "#Strip - Strips characters at both end of the string\n",
    "#Rstrip - Strips characters at Right end of the string\n",
    "#Lstrip - Strips characters at left end of the string\n",
    "#input string a with whitespaces at corners\n",
    "a  = \" Ode on a Grecian Urts \"\n",
    "#strip\n",
    "b = a.strip()\n",
    "print(b)\n",
    "#lstrip\n",
    "b = a.lstrip()\n",
    "print(b)\n",
    "#Rstrip\n",
    "b = a.rstrip()\n",
    "print(b)\n",
    "print(\"################\")\n",
    "#Stripping with characters\n",
    "a  = \",,,,,????... Ode on a Grecian Urtsssss ....,,,\"\n",
    "#strip\n",
    "b = a.strip(\"., \")\n",
    "print(b)\n",
    "#lstrip\n",
    "b = a.lstrip(\",. \")#stops stripping after encountering a different character ? is not a stripping character here, hence stopped.\n",
    "print(b)\n",
    "#Rstrip\n",
    "b = a.rstrip(\",.s \")\n",
    "print(b)\n",
    "\n"
   ]
  },
  {
   "cell_type": "code",
   "execution_count": 145,
   "metadata": {},
   "outputs": [
    {
     "name": "stdout",
     "output_type": "stream",
     "text": [
      "b'I \\\\xe5m le\\\\u0103rnin\\\\xe5g \\\\xc3 Pyth\\\\u0160o\\\\xc2n'\n",
      "b'I m lerning  Python'\n",
      "b'I \\\\N{LATIN SMALL LETTER A WITH RING ABOVE}m le\\\\N{LATIN SMALL LETTER A WITH BREVE}rnin\\\\N{LATIN SMALL LETTER A WITH RING ABOVE}g \\\\N{LATIN CAPITAL LETTER A WITH TILDE} Pyth\\\\N{LATIN CAPITAL LETTER S WITH CARON}o\\\\N{LATIN CAPITAL LETTER A WITH CIRCUMFLEX}n'\n",
      "b'I ?m le?rnin?g ? Pyth?o?n'\n",
      "b'I &#229;m le&#259;rnin&#229;g &#195; Pyth&#352;o&#194;n'\n",
      "\n",
      "\n",
      "b'I \\x86m le\\\\u0103rnin\\x86g \\\\xc3 Pyth\\\\u0160o\\\\xc2n'\n",
      "b'I \\x86m lernin\\x86g  Python'\n",
      "b'I \\x86m le\\\\N{LATIN SMALL LETTER A WITH BREVE}rnin\\x86g \\\\N{LATIN CAPITAL LETTER A WITH TILDE} Pyth\\\\N{LATIN CAPITAL LETTER S WITH CARON}o\\\\N{LATIN CAPITAL LETTER A WITH CIRCUMFLEX}n'\n"
     ]
    }
   ],
   "source": [
    "#Encoding \n",
    "# String Encode Function \n",
    "\n",
    "# encode #execute this in command prompt, it depends upon the ide which supports the special character\n",
    "myencodedstring  = \"I åm leărninåg Ã PythŠoÂn\"\n",
    "print(myencodedstring.encode(encoding = 'ascii', errors = 'backslashreplace'))\n",
    "print(myencodedstring.encode(encoding = 'ascii', errors = 'ignore'))\n",
    "print(myencodedstring.encode(encoding = 'ascii', errors = 'namereplace'))\n",
    "#print(myencodedstring.encode(encoding = 'ascii', errors = 'strict'))\n",
    "print(myencodedstring.encode(encoding = 'ascii', errors = 'replace'))\n",
    "print(myencodedstring.encode(encoding = 'ascii', errors = 'xmlcharrefreplace'))\n",
    "print(\"\\n\")\n",
    "print(myencodedstring.encode(encoding = 'cp437', errors = 'backslashreplace'))\n",
    "print(myencodedstring.encode(encoding = 'cp437', errors = 'ignore'))\n",
    "print(myencodedstring.encode(encoding = 'cp437', errors = 'namereplace'))"
   ]
  },
  {
   "cell_type": "markdown",
   "metadata": {},
   "source": [
    "# Lists\n",
    "\n",
    "Earlier when discussing strings we introduced the concept of a *sequence* in Python. Lists can be thought of the most general version of a *sequence* in Python. Unlike strings, they are mutable, meaning the elements inside a list can be changed!\n",
    "\n",
    "In this section we will learn about:\n",
    "    \n",
    "    1.) Creating lists\n",
    "    2.) Indexing and Slicing Lists\n",
    "    3.) Basic List Methods\n",
    "    4.) Nesting Lists\n",
    "    5.) Introduction to List Comprehensions\n",
    "\n",
    "Lists are constructed with brackets [] and commas separating every element in the list.\n",
    "\n",
    "Let's go ahead and see how we can construct lists!"
   ]
  },
  {
   "cell_type": "code",
   "execution_count": 25,
   "metadata": {},
   "outputs": [
    {
     "name": "stdout",
     "output_type": "stream",
     "text": [
      "<class 'list'>\n",
      "<class 'list'>\n",
      "<class 'list'>\n",
      "##########################\n",
      "<class 'int'>\n",
      "<class 'float'>\n",
      "<class 'complex'>\n",
      "<class 'bool'>\n",
      "<class 'str'>\n",
      "##########################\n",
      "<class 'int'>\n",
      "<class 'float'>\n",
      "<class 'complex'>\n",
      "<class 'bool'>\n",
      "<class 'str'>\n",
      "<class 'list'>\n",
      "<class 'set'>\n",
      "<class 'tuple'>\n",
      "<class 'dict'>\n"
     ]
    }
   ],
   "source": [
    "\n",
    "# Assign a list to an variable named my_list\n",
    "list1 = []\n",
    "list2 = list()\n",
    "my_list = [1,2.0,3+4j,False, \"Hello World\"]\n",
    "my_list_2 = [1,2.0,3+4j,False, \"Hello World\",[True, False, True, 123,\"one two three\"],{1,2,3},(1,2,3),{1:2,2:3,3:4}]\n",
    "print(type(list1))\n",
    "print(type(list2))\n",
    "print(type(my_list))\n",
    "print(\"##########################\")\n",
    "for item in my_list:\n",
    "    print(type(item))\n",
    "print(\"##########################\")\n",
    "for item in my_list_2:\n",
    "    print(type(item))"
   ]
  },
  {
   "cell_type": "code",
   "execution_count": 37,
   "metadata": {},
   "outputs": [],
   "source": [
    "my_list1 = [4.0,5.0,6]\n",
    "my_list2 = [4,5.0+3j,\"abc\"]"
   ]
  },
  {
   "cell_type": "code",
   "execution_count": 38,
   "metadata": {},
   "outputs": [
    {
     "name": "stdout",
     "output_type": "stream",
     "text": [
      "[4.0, 5.0, 6]\n",
      "[4, (5+3j), 'abc']\n"
     ]
    }
   ],
   "source": [
    "print(my_list1)\n",
    "print(my_list2)"
   ]
  },
  {
   "cell_type": "code",
   "execution_count": 39,
   "metadata": {},
   "outputs": [
    {
     "name": "stdout",
     "output_type": "stream",
     "text": [
      "[4.0, 5.0, 6, 4, (5+3j), 'abc', 7.0, 8.0, (9+2j)]\n"
     ]
    }
   ],
   "source": [
    "list_combined =my_list1+my_list2 + [7.0,8.0,9+2j]\n",
    "print(list_combined)"
   ]
  },
  {
   "cell_type": "code",
   "execution_count": 40,
   "metadata": {},
   "outputs": [
    {
     "name": "stdout",
     "output_type": "stream",
     "text": [
      "[4.0, 5.0, 6, 4, (5+3j), 'abc', 7.0, 8.0, (9+2j)]\n"
     ]
    }
   ],
   "source": [
    "#Combining lists \n",
    "my_list1 =my_list1+my_list2 + [7.0,8.0,9+2j]\n",
    "print(my_list1)"
   ]
  },
  {
   "cell_type": "markdown",
   "metadata": {},
   "source": [
    "### Indexing and Slicing\n",
    "Indexing and slicing work just like in strings. Let's make a new list to remind ourselves of how this works:"
   ]
  },
  {
   "cell_type": "code",
   "execution_count": 41,
   "metadata": {},
   "outputs": [
    {
     "data": {
      "text/plain": [
       "4.0"
      ]
     },
     "execution_count": 41,
     "metadata": {},
     "output_type": "execute_result"
    }
   ],
   "source": [
    "#just take the 1st element at the list\n",
    "list_combined[0]"
   ]
  },
  {
   "cell_type": "code",
   "execution_count": 42,
   "metadata": {},
   "outputs": [
    {
     "data": {
      "text/plain": [
       "[4.0, 5.0, 6]"
      ]
     },
     "execution_count": 42,
     "metadata": {},
     "output_type": "execute_result"
    }
   ],
   "source": [
    "#retrive the 1st element until third\n",
    "list_combined[0:3]"
   ]
  },
  {
   "cell_type": "code",
   "execution_count": 43,
   "metadata": {},
   "outputs": [
    {
     "data": {
      "text/plain": [
       "[4.0, 6, (5+3j), 7.0, (9+2j)]"
      ]
     },
     "execution_count": 43,
     "metadata": {},
     "output_type": "execute_result"
    }
   ],
   "source": [
    "list_combined[0::2]"
   ]
  },
  {
   "cell_type": "code",
   "execution_count": 44,
   "metadata": {},
   "outputs": [
    {
     "data": {
      "text/plain": [
       "[6, 4, (5+3j), 'abc', 7.0, 8.0, (9+2j)]"
      ]
     },
     "execution_count": 44,
     "metadata": {},
     "output_type": "execute_result"
    }
   ],
   "source": [
    "#retrive the 2nd element until the end of the list\n",
    "list_combined[2:]"
   ]
  },
  {
   "cell_type": "markdown",
   "metadata": {},
   "source": [
    "**We can also use + to concatenate lists, just like we did for strings.**"
   ]
  },
  {
   "cell_type": "code",
   "execution_count": 46,
   "metadata": {},
   "outputs": [
    {
     "name": "stdout",
     "output_type": "stream",
     "text": [
      "[4.0, 5.0, 6, 4, (5+3j), 'abc', 7.0, 8.0, (9+2j), 'def', 'ghi']\n",
      "[4.0, 5.0, 6, 4, (5+3j), 'abc', 'def', 'ghi']\n"
     ]
    }
   ],
   "source": [
    "add_tolist = list_combined + [\"def\",\"ghi\"]\n",
    "list_direct = [4.0, 5.0, 6, 4, (5+3j), 'abc'] + ['def', 'ghi']\n",
    "print(add_tolist)\n",
    "print(list_direct)"
   ]
  },
  {
   "cell_type": "markdown",
   "metadata": {},
   "source": [
    "** Duplicating list **"
   ]
  },
  {
   "cell_type": "code",
   "execution_count": 47,
   "metadata": {},
   "outputs": [
    {
     "name": "stdout",
     "output_type": "stream",
     "text": [
      "[4.0, 5.0, 6, 4, (5+3j), 'abc', 7.0, 8.0, (9+2j), 'def', 'ghi', 4.0, 5.0, 6, 4, (5+3j), 'abc', 7.0, 8.0, (9+2j), 'def', 'ghi', 4.0, 5.0, 6, 4, (5+3j), 'abc', 7.0, 8.0, (9+2j), 'def', 'ghi']\n",
      "#########################\n",
      "[4.0, 5.0, 6, 4, 4.0, 5.0, 6, 4, 4.0, 5.0, 6, 4]\n"
     ]
    }
   ],
   "source": [
    "duplicated_list = add_tolist * 3\n",
    "print(duplicated_list)\n",
    "print(\"#########################\")\n",
    "duplicated_list = add_tolist[0:4] * 3\n",
    "print(duplicated_list)"
   ]
  },
  {
   "cell_type": "markdown",
   "metadata": {},
   "source": [
    "<h5> Lists Methods <h5>\n",
    "<ol type = \"A\">\n",
    "    <li>Append</li>\n",
    "    <li>Clear</li>\n",
    "    <li>Count</li> \n",
    "    <li>Extend</li>\n",
    "    <li>Index</li>\n",
    "    <li>Insert</li>\n",
    "    <li>Pop</li>\n",
    "    <li>Remove</li>\n",
    "    <li>Reverse</li>\n",
    "    <li>Sort</li>\n",
    "</ol>"
   ]
  },
  {
   "cell_type": "code",
   "execution_count": 48,
   "metadata": {},
   "outputs": [
    {
     "name": "stdout",
     "output_type": "stream",
     "text": [
      "Cities  - ['Chennai', 'Bangalore', 'Delhi', 'Kolkatta'] \n",
      "Cities  - ['Chennai', 'Bangalore', 'Delhi', 'Kolkatta', 'Mumbai'] \n"
     ]
    }
   ],
   "source": [
    "Cities =[\"Chennai\",\"Bangalore\", \"Delhi\",\"Kolkatta\"]\n",
    "#Append\n",
    "\n",
    "print(\"Cities  - {} \".format(Cities))\n",
    "#add a new item to the list\n",
    "#Cities.append([\"Hyderabad\",\"Thane\"])\n",
    "#print(\"Cities  - {} \".format(Cities))\n",
    "Cities.append(\"Mumbai\")\n",
    "print(\"Cities  - {} \".format(Cities))"
   ]
  },
  {
   "cell_type": "code",
   "execution_count": 49,
   "metadata": {},
   "outputs": [
    {
     "name": "stdout",
     "output_type": "stream",
     "text": [
      "[]\n"
     ]
    }
   ],
   "source": [
    "#Clear \n",
    "#Removes all the items from the list\n",
    "Cities.clear()\n",
    "print(Cities)"
   ]
  },
  {
   "cell_type": "code",
   "execution_count": 50,
   "metadata": {},
   "outputs": [
    {
     "name": "stdout",
     "output_type": "stream",
     "text": [
      "['Chennai', 'Bangalore', 'Delhi', 'Kolkatta', 'Hyderabad']\n",
      "1\n",
      "['Chennai', 'Bangalore', 'Delhi', 'Kolkatta', 'Hyderabad', 'Chennai']\n",
      "Count of City after adding again 2\n"
     ]
    }
   ],
   "source": [
    "#Add the Items Back\n",
    "Cities =[\"Chennai\",\"Bangalore\", \"Delhi\",\"Kolkatta\",\"Hyderabad\"]\n",
    "print(Cities)\n",
    "#Count -  Used to find the count of an item\n",
    "count_givencity = Cities.count(\"Chennai\")\n",
    "print(count_givencity)\n",
    "Cities.append(\"Chennai\")\n",
    "print(Cities)\n",
    "count_givencity = Cities.count(\"Chennai\")\n",
    "\n",
    "print(\"Count of City after adding again {}\".format(count_givencity))"
   ]
  },
  {
   "cell_type": "code",
   "execution_count": 51,
   "metadata": {},
   "outputs": [
    {
     "name": "stdout",
     "output_type": "stream",
     "text": [
      "Cities - ['Chennai', 'Bangalore', 'Delhi', 'Kolkatta', 'Hyderabad']\n",
      "New Cities - ['Mumbai', 'Pune', 'Agra', 'Kanpur', 'Noida', 'Visakhapatnam']\n",
      "None\n",
      "Cities after Extend  ['Chennai', 'Bangalore', 'Delhi', 'Kolkatta', 'Hyderabad', 'Mumbai', 'Pune', 'Agra', 'Kanpur', 'Noida', 'Visakhapatnam']\n"
     ]
    }
   ],
   "source": [
    "#extend\n",
    "# To extend the items of a list with another list of items, lets add another city list to existing one\n",
    "Cities =[\"Chennai\",\"Bangalore\", \"Delhi\",\"Kolkatta\",\"Hyderabad\"]\n",
    "NewCities = [\"Mumbai\",\"Pune\",\"Agra\",\"Kanpur\",\"Noida\",\"Visakhapatnam\"]\n",
    "print(\"Cities - {}\".format(Cities))\n",
    "print(\"New Cities - {}\".format( NewCities))\n",
    "#Cities.append(NewCities)\n",
    "#print(Cities)\n",
    "\n",
    "resultCities=Cities.extend(NewCities)\n",
    "print(resultCities)\n",
    "print(\"Cities after Extend  {}\".format(Cities))"
   ]
  },
  {
   "cell_type": "code",
   "execution_count": 54,
   "metadata": {},
   "outputs": [
    {
     "name": "stdout",
     "output_type": "stream",
     "text": [
      "0\n",
      "9\n"
     ]
    }
   ],
   "source": [
    "#index\n",
    "GetIndex = Cities.index(\"Chennai\")\n",
    "print(GetIndex)\n",
    "GetIndex = Cities.index(\"Noida\")\n",
    "print(GetIndex)\n"
   ]
  },
  {
   "cell_type": "code",
   "execution_count": 56,
   "metadata": {},
   "outputs": [
    {
     "name": "stdout",
     "output_type": "stream",
     "text": [
      "Cities - ['Chennai', 'Bangalore', 'Mumbai', 'Delhi', 'Kolkatta', 'Hyderabad']\n",
      "Cities - ['Chennai', 'Bangalore', 'Mumbai', 'Delhi', 'Pune', 'Kolkatta', 'Hyderabad']\n"
     ]
    }
   ],
   "source": [
    "#Insert \n",
    "#Add an item to a particular postion/index\n",
    "Cities =[\"Chennai\",\"Bangalore\", \"Delhi\",\"Kolkatta\",\"Hyderabad\"]\n",
    "Cities.insert(2,\"Mumbai\")\n",
    "print(\"Cities - {}\".format(Cities))\n",
    "Cities.insert(-2,\"Pune\")\n",
    "#Cities.insert(\"Pune\")\n",
    "print(\"Cities - {}\".format(Cities))\n",
    "#Cities[5]"
   ]
  },
  {
   "cell_type": "code",
   "execution_count": 58,
   "metadata": {},
   "outputs": [
    {
     "name": "stdout",
     "output_type": "stream",
     "text": [
      "Cities - ['Chennai', 'Bangalore', 'Delhi', 'Kolkatta', 'Hyderabad']\n",
      "After Pop Operation  , Cities - ['Chennai', 'Bangalore', 'Delhi', 'Kolkatta']\n",
      "After Pop Operation  , Cities - ['Chennai', 'Delhi', 'Kolkatta']\n",
      "After Pop Operation  , Cities - ['Chennai', 'Delhi']\n"
     ]
    },
    {
     "ename": "IndexError",
     "evalue": "pop index out of range",
     "output_type": "error",
     "traceback": [
      "\u001b[1;31m---------------------------------------------------------------------------\u001b[0m",
      "\u001b[1;31mIndexError\u001b[0m                                Traceback (most recent call last)",
      "\u001b[1;32m<ipython-input-58-4bfe6867de3d>\u001b[0m in \u001b[0;36m<module>\u001b[1;34m\u001b[0m\n\u001b[0;32m      8\u001b[0m \u001b[0mCities\u001b[0m\u001b[1;33m.\u001b[0m\u001b[0mpop\u001b[0m\u001b[1;33m(\u001b[0m\u001b[1;36m2\u001b[0m\u001b[1;33m)\u001b[0m\u001b[1;33m\u001b[0m\u001b[1;33m\u001b[0m\u001b[0m\n\u001b[0;32m      9\u001b[0m \u001b[0mprint\u001b[0m\u001b[1;33m(\u001b[0m\u001b[1;34m\"After Pop Operation  , Cities - {}\"\u001b[0m\u001b[1;33m.\u001b[0m\u001b[0mformat\u001b[0m\u001b[1;33m(\u001b[0m\u001b[0mCities\u001b[0m\u001b[1;33m)\u001b[0m\u001b[1;33m)\u001b[0m\u001b[1;33m\u001b[0m\u001b[1;33m\u001b[0m\u001b[0m\n\u001b[1;32m---> 10\u001b[1;33m \u001b[0mCities\u001b[0m\u001b[1;33m.\u001b[0m\u001b[0mpop\u001b[0m\u001b[1;33m(\u001b[0m\u001b[1;36m3\u001b[0m\u001b[1;33m)\u001b[0m\u001b[1;31m#For insert it's okay to give out of index positions for pop within range has to be given\u001b[0m\u001b[1;33m\u001b[0m\u001b[1;33m\u001b[0m\u001b[0m\n\u001b[0m\u001b[0;32m     11\u001b[0m \u001b[0mprint\u001b[0m\u001b[1;33m(\u001b[0m\u001b[1;34m\"After Pop Operation  , Cities - {}\"\u001b[0m\u001b[1;33m.\u001b[0m\u001b[0mformat\u001b[0m\u001b[1;33m(\u001b[0m\u001b[0mCities\u001b[0m\u001b[1;33m)\u001b[0m\u001b[1;33m)\u001b[0m\u001b[1;33m\u001b[0m\u001b[1;33m\u001b[0m\u001b[0m\n",
      "\u001b[1;31mIndexError\u001b[0m: pop index out of range"
     ]
    }
   ],
   "source": [
    "#Pop Operation - specify the position\n",
    "Cities =[\"Chennai\",\"Bangalore\", \"Delhi\",\"Kolkatta\",\"Hyderabad\"]\n",
    "print(\"Cities - {}\".format(Cities))\n",
    "Cities.pop()\n",
    "print(\"After Pop Operation  , Cities - {}\".format(Cities))\n",
    "Cities.pop(1)\n",
    "print(\"After Pop Operation  , Cities - {}\".format(Cities))\n",
    "Cities.pop(2)\n",
    "print(\"After Pop Operation  , Cities - {}\".format(Cities))\n",
    "Cities.pop(3) #For insert it's okay to give out of index positions, for pop within range has to be given\n",
    "print(\"After Pop Operation  , Cities - {}\".format(Cities))"
   ]
  },
  {
   "cell_type": "code",
   "execution_count": 64,
   "metadata": {},
   "outputs": [
    {
     "name": "stdout",
     "output_type": "stream",
     "text": [
      "Cities - ['Chennai', 'Bangalore', 'Delhi', 'Kolkatta', 'Hyderabad', 'Kolkatta']\n",
      "Cities - ['Chennai', 'Bangalore', 'Delhi', 'Hyderabad', 'Kolkatta']\n",
      "After remove Operation  , Cities - ['Chennai', 'Bangalore', 'Delhi', 'Hyderabad', 'Kolkatta']\n",
      "Cities - ['Chennai', 'Bangalore', 'Delhi', 'Hyderabad']\n"
     ]
    },
    {
     "ename": "ValueError",
     "evalue": "'Kolkatta' is not in list",
     "output_type": "error",
     "traceback": [
      "\u001b[1;31m---------------------------------------------------------------------------\u001b[0m",
      "\u001b[1;31mValueError\u001b[0m                                Traceback (most recent call last)",
      "\u001b[1;32m<ipython-input-64-f03e86929198>\u001b[0m in \u001b[0;36m<module>\u001b[1;34m\u001b[0m\n\u001b[0;32m     11\u001b[0m \u001b[0mCities\u001b[0m\u001b[1;33m.\u001b[0m\u001b[0mpop\u001b[0m\u001b[1;33m(\u001b[0m\u001b[0mCities\u001b[0m\u001b[1;33m.\u001b[0m\u001b[0mindex\u001b[0m\u001b[1;33m(\u001b[0m\u001b[1;34m\"Kolkatta\"\u001b[0m\u001b[1;33m)\u001b[0m\u001b[1;33m)\u001b[0m\u001b[1;33m\u001b[0m\u001b[1;33m\u001b[0m\u001b[0m\n\u001b[0;32m     12\u001b[0m \u001b[0mprint\u001b[0m\u001b[1;33m(\u001b[0m\u001b[1;34m\"Cities - {}\"\u001b[0m\u001b[1;33m.\u001b[0m\u001b[0mformat\u001b[0m\u001b[1;33m(\u001b[0m\u001b[0mCities\u001b[0m\u001b[1;33m)\u001b[0m\u001b[1;33m)\u001b[0m\u001b[1;33m\u001b[0m\u001b[1;33m\u001b[0m\u001b[0m\n\u001b[1;32m---> 13\u001b[1;33m \u001b[0mCities\u001b[0m\u001b[1;33m.\u001b[0m\u001b[0mpop\u001b[0m\u001b[1;33m(\u001b[0m\u001b[0mCities\u001b[0m\u001b[1;33m.\u001b[0m\u001b[0mindex\u001b[0m\u001b[1;33m(\u001b[0m\u001b[1;34m\"Kolkatta\"\u001b[0m\u001b[1;33m)\u001b[0m\u001b[1;33m)\u001b[0m\u001b[1;31m# Throws error when value not available\u001b[0m\u001b[1;33m\u001b[0m\u001b[1;33m\u001b[0m\u001b[0m\n\u001b[0m\u001b[0;32m     14\u001b[0m \u001b[0mprint\u001b[0m\u001b[1;33m(\u001b[0m\u001b[1;34m\"Cities - {}\"\u001b[0m\u001b[1;33m.\u001b[0m\u001b[0mformat\u001b[0m\u001b[1;33m(\u001b[0m\u001b[0mCities\u001b[0m\u001b[1;33m)\u001b[0m\u001b[1;33m)\u001b[0m\u001b[1;33m\u001b[0m\u001b[1;33m\u001b[0m\u001b[0m\n",
      "\u001b[1;31mValueError\u001b[0m: 'Kolkatta' is not in list"
     ]
    }
   ],
   "source": [
    "#Remove\n",
    "Cities =[\"Chennai\",\"Bangalore\", \"Delhi\",\"Kolkatta\",\"Hyderabad\", \"Kolkatta\"]\n",
    "print(\"Cities - {}\".format(Cities))\n",
    "Cities.remove(\"Kolkatta\")\n",
    "print(\"Cities - {}\".format(Cities))\n",
    "#Cities.remove(\"\")\n",
    "#print(\"Cities - {}\".format(Cities))\n",
    "#Cities.remove(\"Kolkatta\")\n",
    "#print(\"Cities - {}\".format(Cities))\n",
    "print(\"After remove Operation  , Cities - {}\".format(Cities))\n",
    "Cities.pop(Cities.index(\"Kolkatta\"))\n",
    "print(\"Cities - {}\".format(Cities))\n",
    "Cities.pop(Cities.index(\"Kolkatta\"))# Throws error when value not available\n",
    "print(\"Cities - {}\".format(Cities))\n"
   ]
  },
  {
   "cell_type": "code",
   "execution_count": 65,
   "metadata": {},
   "outputs": [
    {
     "name": "stdout",
     "output_type": "stream",
     "text": [
      "########## First Reverse using reverse method ()#################\n",
      "['Hyderabad', 'Kolkatta', 'Delhi', 'Bangalore', 'Chennai']\n",
      "########## Second Reverse using indexing ################\n",
      "['Chennai', 'Bangalore', 'Delhi', 'Kolkatta', 'Hyderabad']\n"
     ]
    }
   ],
   "source": [
    "#Reverse\n",
    "#Reverses the list\n",
    "Cities =[\"Chennai\",\"Bangalore\", \"Delhi\",\"Kolkatta\",\"Hyderabad\"]\n",
    "print(\"########## First Reverse using reverse method ()#################\")\n",
    "Cities.reverse()\n",
    "print(Cities)\n",
    "print(\"########## Second Reverse using indexing ################\")\n",
    "#Re Reverse\n",
    "Cities_1 = Cities[::-1]\n",
    "print(Cities_1)\n"
   ]
  },
  {
   "cell_type": "code",
   "execution_count": 67,
   "metadata": {},
   "outputs": [
    {
     "name": "stdout",
     "output_type": "stream",
     "text": [
      "###########################\n",
      "Cities - ['Chennai', 'Bangalore', 'Delhi', 'Kolkatta', 'Hyderabad', 'Mumbai', 'Pune', 'agra', 'Guwhathi', 'Kanpur', 'Noida', 'Visakhapatnam', 'Coimbatore']\n",
      "###########################\n",
      "['Bangalore', 'Chennai', 'Coimbatore', 'Delhi', 'Guwhathi', 'Hyderabad', 'Kanpur', 'Kolkatta', 'Mumbai', 'Noida', 'Pune', 'Visakhapatnam', 'agra']\n",
      "#############reverse True##############\n",
      "['agra', 'Visakhapatnam', 'Pune', 'Noida', 'Mumbai', 'Kolkatta', 'Kanpur', 'Hyderabad', 'Guwhathi', 'Delhi', 'Coimbatore', 'Chennai', 'Bangalore']\n",
      "###########################\n",
      "Cities - In desc order of Length - ['Visakhapatnam', 'Coimbatore', 'Hyderabad', 'Bangalore', 'Kolkatta', 'Guwhathi', 'Chennai', 'Mumbai', 'Kanpur', 'Noida', 'Delhi', 'agra', 'Pune']\n",
      "###########################\n",
      "Cities - In asc order of Length  - ['agra', 'Pune', 'Noida', 'Delhi', 'Mumbai', 'Kanpur', 'Chennai', 'Kolkatta', 'Guwhathi', 'Hyderabad', 'Bangalore', 'Coimbatore', 'Visakhapatnam']\n",
      "###########################\n",
      "Cities - In desc order of character 'a' count - ['Visakhapatnam', 'agra', 'Kolkatta', 'Hyderabad', 'Bangalore', 'Noida', 'Mumbai', 'Kanpur', 'Chennai', 'Guwhathi', 'Coimbatore', 'Pune', 'Delhi']\n",
      "###########################\n",
      "Cities - In asc order of character 'a' count - ['Pune', 'Delhi', 'Noida', 'Mumbai', 'Kanpur', 'Chennai', 'Guwhathi', 'Coimbatore', 'agra', 'Kolkatta', 'Hyderabad', 'Bangalore', 'Visakhapatnam']\n",
      "###########################\n"
     ]
    }
   ],
   "source": [
    "#Sort\n",
    "Cities =[\"Chennai\",\"Bangalore\", \"Delhi\",\"Kolkatta\",\"Hyderabad\",\"Mumbai\",\"Pune\",\"agra\",\"Guwhathi\",\"Kanpur\",\"Noida\",\"Visakhapatnam\",\"Coimbatore\"]\n",
    "#Cities.sort(False, key = None)\n",
    "\n",
    "def overlength(e):\n",
    "    return len(e)\n",
    "\n",
    "def overacharcount(e):\n",
    "    return e.count(\"a\")\n",
    "\n",
    "print(\"###########################\")\n",
    "print(\"Cities - {}\".format(Cities))\n",
    "print(\"###########################\")\n",
    "Cities.sort()\n",
    "print(Cities)\n",
    "print(\"#############reverse True##############\")\n",
    "\n",
    "Cities.sort(reverse = True)\n",
    "print(Cities)\n",
    "print(\"###########################\")\n",
    "Cities.sort(reverse = True, key = overlength)\n",
    "print(\"Cities - In desc order of Length - {}\".format(Cities))\n",
    "print(\"###########################\")\n",
    "Cities.sort(reverse = False, key = overlength)\n",
    "print(\"Cities - In asc order of Length  - {}\".format(Cities))\n",
    "print(\"###########################\")\n",
    "Cities.sort(reverse = True, key = overacharcount)\n",
    "print(\"Cities - In desc order of character 'a' count - {}\".format(Cities))\n",
    "print(\"###########################\")\n",
    "Cities.sort(reverse = False, key = overacharcount)\n",
    "print(\"Cities - In asc order of character 'a' count - {}\".format(Cities))\n",
    "print(\"###########################\")\n"
   ]
  },
  {
   "cell_type": "markdown",
   "metadata": {},
   "source": [
    "### Tuple \n",
    "Tuple is an immutable datatype, containing different data type of elements <br>\n",
    "\n",
    "In Python tuples are very similar to lists, however, unlike lists they are *immutable* meaning they can not be changed. You would use tuples to present things that shouldn't be changed, such as days of the week, or dates on a calendar. \n",
    "\n",
    "In this section, we will get a brief overview of the following:\n",
    "\n",
    "    1.) Constructing Tuples\n",
    "    2.) Basic Tuple Methods\n",
    "    3.) Immutability\n",
    "    4.) When to Use Tuples\n",
    "\n",
    "You'll have an intuition of how to use tuples based on what you've learned about lists. We can treat them very similarly with the major distinction being that tuples are immutable.\n",
    "\n",
    "## Constructing Tuples\n",
    "\n",
    "The construction of a tuples use () with elements separated by commas. For example:"
   ]
  },
  {
   "cell_type": "code",
   "execution_count": 69,
   "metadata": {},
   "outputs": [
    {
     "name": "stdout",
     "output_type": "stream",
     "text": [
      "<class 'tuple'>\n",
      "<class 'tuple'>\n",
      "<class 'tuple'>\n",
      "<class 'tuple'>\n",
      "<class 'tuple'>\n"
     ]
    }
   ],
   "source": [
    "# Create a tuple\n",
    "t = (1,2,3) \n",
    "r = 1,\n",
    "u = 1.0+2j, 3.0+3j,\"a\",\"bb\" #mixed type of objects\n",
    "v = (1,1.0,2.0+3.0j,\"a\",[\"aa\",\"bb\"],(1.0,2.0,3.0),{1,2,3},{\"a\":1})#mixed type of objects with parenthesis enclosure\n",
    "x = 1,1.0,2.0+3.0j,\"a\",[\"aa\",\"bb\"],(1.0,2.0,3.0),{1,2,3},{\"a\":1}#mixed type of objects with parenthesis enclosure\n",
    "w = tuple()\n",
    "print(type(t))\n",
    "print(type(u))\n",
    "print(type(v))\n",
    "print(type(w))\n",
    "print(type(x))"
   ]
  },
  {
   "cell_type": "code",
   "execution_count": 70,
   "metadata": {},
   "outputs": [
    {
     "name": "stdout",
     "output_type": "stream",
     "text": [
      "(1, 1.0, (2+3j), 'a', ['aa', 'bb'], (1.0, 2.0, 3.0), {1, 2, 3}, {'a': 1})\n",
      "################################\n",
      "1 <class 'int'>\n",
      "1.0 <class 'float'>\n",
      "(2+3j) <class 'complex'>\n",
      "a <class 'str'>\n",
      "['aa', 'bb'] <class 'list'>\n",
      "(1.0, 2.0, 3.0) <class 'tuple'>\n",
      "{1, 2, 3} <class 'set'>\n",
      "{'a': 1} <class 'dict'>\n"
     ]
    }
   ],
   "source": [
    "print(v)\n",
    "print(\"################################\")\n",
    "for item in v: \n",
    "    print(item, type(item))"
   ]
  },
  {
   "cell_type": "code",
   "execution_count": 71,
   "metadata": {},
   "outputs": [
    {
     "name": "stdout",
     "output_type": "stream",
     "text": [
      "((1+2j), (3+3j), 'a', 'bb', 1, 1.0, (2+3j), 'a', ['aa', 'bb'], (1.0, 2.0, 3.0), {1, 2, 3}, {'a': 1})\n"
     ]
    }
   ],
   "source": [
    "#lets create another tuple from existing tuples u and v\n",
    "w = u + v \n",
    "print(w)\n"
   ]
  },
  {
   "cell_type": "markdown",
   "metadata": {},
   "source": [
    "#### Doesnt' support item assignment"
   ]
  },
  {
   "cell_type": "code",
   "execution_count": 73,
   "metadata": {},
   "outputs": [
    {
     "name": "stdout",
     "output_type": "stream",
     "text": [
      "(1, 1.0, (2+3j), 'a', ['aa', 'bb'], (1.0, 2.0, 3.0), {1, 2, 3}, {'a': 1})\n",
      "################################\n",
      "1\n",
      "1.0\n",
      "################################\n"
     ]
    },
    {
     "ename": "TypeError",
     "evalue": "'tuple' object does not support item assignment",
     "output_type": "error",
     "traceback": [
      "\u001b[1;31m---------------------------------------------------------------------------\u001b[0m",
      "\u001b[1;31mTypeError\u001b[0m                                 Traceback (most recent call last)",
      "\u001b[1;32m<ipython-input-73-2e5a14e120d2>\u001b[0m in \u001b[0;36m<module>\u001b[1;34m\u001b[0m\n\u001b[0;32m      4\u001b[0m \u001b[0mprint\u001b[0m\u001b[1;33m(\u001b[0m\u001b[0mv\u001b[0m\u001b[1;33m[\u001b[0m\u001b[1;36m1\u001b[0m\u001b[1;33m]\u001b[0m\u001b[1;33m)\u001b[0m\u001b[1;33m\u001b[0m\u001b[1;33m\u001b[0m\u001b[0m\n\u001b[0;32m      5\u001b[0m \u001b[0mprint\u001b[0m\u001b[1;33m(\u001b[0m\u001b[1;34m\"################################\"\u001b[0m\u001b[1;33m)\u001b[0m\u001b[1;33m\u001b[0m\u001b[1;33m\u001b[0m\u001b[0m\n\u001b[1;32m----> 6\u001b[1;33m \u001b[0mv\u001b[0m\u001b[1;33m[\u001b[0m\u001b[1;36m0\u001b[0m\u001b[1;33m]\u001b[0m \u001b[1;33m=\u001b[0m  \u001b[0mt\u001b[0m \u001b[1;33m+\u001b[0m \u001b[0mu\u001b[0m\u001b[1;33m\u001b[0m\u001b[1;33m\u001b[0m\u001b[0m\n\u001b[0m",
      "\u001b[1;31mTypeError\u001b[0m: 'tuple' object does not support item assignment"
     ]
    }
   ],
   "source": [
    "print(v)\n",
    "print(\"################################\")\n",
    "print(v[0])\n",
    "print(v[1])\n",
    "print(\"################################\")\n",
    "v[0] =  t + u"
   ]
  },
  {
   "cell_type": "code",
   "execution_count": 74,
   "metadata": {},
   "outputs": [
    {
     "name": "stdout",
     "output_type": "stream",
     "text": [
      "w data is -  ((1+2j), (3+3j), 'a', 'bb', 1, 1.0, (2+3j), 'a', ['aa', 'bb'], (1.0, 2.0, 3.0), {1, 2, 3}, {'a': 1})\n",
      "(1+2j) <class 'complex'>\n",
      "(3+3j) <class 'complex'>\n",
      "a <class 'str'>\n",
      "bb <class 'str'>\n",
      "1 <class 'int'>\n",
      "1.0 <class 'float'>\n",
      "(2+3j) <class 'complex'>\n",
      "a <class 'str'>\n",
      "['aa', 'bb'] <class 'list'>\n",
      "(1.0, 2.0, 3.0) <class 'tuple'>\n",
      "{1, 2, 3} <class 'set'>\n",
      "{'a': 1} <class 'dict'>\n",
      "################################\n"
     ]
    }
   ],
   "source": [
    "print(\"w data is - \",w)\n",
    "#lets verify the datatype for the above\n",
    "for element in w:\n",
    "    print( element ,type(element))\n",
    "#the same can done with lists also.\n",
    "\n",
    "print(\"################################\")\n",
    "#a = [(element ,type(element))for element in w]\n",
    "#print(a)"
   ]
  },
  {
   "cell_type": "markdown",
   "metadata": {},
   "source": [
    "#### creating tuple from another tuple"
   ]
  },
  {
   "cell_type": "code",
   "execution_count": 75,
   "metadata": {},
   "outputs": [
    {
     "name": "stdout",
     "output_type": "stream",
     "text": [
      "2\n"
     ]
    },
    {
     "ename": "TypeError",
     "evalue": "'tuple' object does not support item assignment",
     "output_type": "error",
     "traceback": [
      "\u001b[1;31m---------------------------------------------------------------------------\u001b[0m",
      "\u001b[1;31mTypeError\u001b[0m                                 Traceback (most recent call last)",
      "\u001b[1;32m<ipython-input-75-9a725b05fae1>\u001b[0m in \u001b[0;36m<module>\u001b[1;34m\u001b[0m\n\u001b[0;32m      2\u001b[0m \u001b[0mprint\u001b[0m\u001b[1;33m(\u001b[0m\u001b[0mt\u001b[0m\u001b[1;33m[\u001b[0m\u001b[1;36m1\u001b[0m\u001b[1;33m]\u001b[0m\u001b[1;33m)\u001b[0m\u001b[1;33m\u001b[0m\u001b[1;33m\u001b[0m\u001b[0m\n\u001b[0;32m      3\u001b[0m \u001b[1;31m#Indexing\u001b[0m\u001b[1;33m\u001b[0m\u001b[1;33m\u001b[0m\u001b[1;33m\u001b[0m\u001b[0m\n\u001b[1;32m----> 4\u001b[1;33m \u001b[0mu\u001b[0m\u001b[1;33m[\u001b[0m\u001b[1;36m2\u001b[0m\u001b[1;33m]\u001b[0m \u001b[1;33m=\u001b[0m \u001b[1;34m\"aa\"\u001b[0m\u001b[1;33m\u001b[0m\u001b[1;33m\u001b[0m\u001b[0m\n\u001b[0m",
      "\u001b[1;31mTypeError\u001b[0m: 'tuple' object does not support item assignment"
     ]
    }
   ],
   "source": [
    "#Slicing is supported\n",
    "print(t[1])\n",
    "#Indexing \n",
    "u[2] = \"aa\""
   ]
  },
  {
   "cell_type": "code",
   "execution_count": 76,
   "metadata": {},
   "outputs": [
    {
     "name": "stdout",
     "output_type": "stream",
     "text": [
      "apple <class 'str'>\n",
      "3 <class 'int'>\n",
      "1.4 <class 'float'>\n",
      "('banana', 5) <class 'tuple'>\n"
     ]
    }
   ],
   "source": [
    "#Tuple contains nested tuples\n",
    "t1 = (\"apple\", 3, 1.4, (\"banana\", 5))\n",
    "for element in t1:\n",
    "    print( element ,type(element))\n"
   ]
  },
  {
   "cell_type": "markdown",
   "metadata": {},
   "source": [
    "#### Membership Operation"
   ]
  },
  {
   "cell_type": "code",
   "execution_count": 78,
   "metadata": {},
   "outputs": [
    {
     "name": "stdout",
     "output_type": "stream",
     "text": [
      "True\n",
      "False\n",
      "False\n"
     ]
    }
   ],
   "source": [
    "#check the membership of an element in a tuple\n",
    "#in operation is used to check the membership\n",
    "# membership is true if the value is present else false\n",
    "t1 = (\"apple\", \"banana\", \"cherry\",\"apple\")\n",
    "print( \"banana\" in t1 )\n",
    "print( \"orange\" in t1 )\n",
    "print( \"banana\" not in t1 )"
   ]
  },
  {
   "cell_type": "markdown",
   "metadata": {},
   "source": [
    "##### Tuples have built-in methods, but not as many as lists do. Let's look at two of them:"
   ]
  },
  {
   "cell_type": "code",
   "execution_count": 79,
   "metadata": {},
   "outputs": [
    {
     "name": "stdout",
     "output_type": "stream",
     "text": [
      "0\n",
      "count is 2\n"
     ]
    }
   ],
   "source": [
    "\n",
    "# Use .index to enter a value and return the index\n",
    "\n",
    "print(t1.index('apple'))\n",
    "# Use .count to count the number of times a value appears\n",
    "print(\"count is {}\".format(t1.count('apple')))"
   ]
  },
  {
   "cell_type": "code",
   "execution_count": 80,
   "metadata": {},
   "outputs": [
    {
     "name": "stdout",
     "output_type": "stream",
     "text": [
      "Number of animals in the zoo is 3\n",
      "Number of cages in the new zoo is 3\n",
      "All animals in new zoo are ('monkey', 'camel', ('python', 'elephant', 'penguin'))\n",
      "Animals brought from old zoo are ('python', 'elephant', 'penguin')\n",
      "Last animal brought from old zoo is penguin\n",
      "Last animal brought from old zoo is penguin\n",
      "Number of animals in the new zoo is 5\n"
     ]
    },
    {
     "data": {
      "text/plain": [
       "(3, 3)"
      ]
     },
     "execution_count": 80,
     "metadata": {},
     "output_type": "execute_result"
    }
   ],
   "source": [
    "# I would recommend always using parentheses\n",
    "# to indicate start and end of tuple\n",
    "# even though parentheses are optional.\n",
    "# Explicit is better than implicit.\n",
    "zoo = 'python', 'elephant', 'penguin'\n",
    "print('Number of animals in the zoo is', len(zoo))\n",
    "new_zoo = 'monkey', 'camel',  zoo\n",
    "print('Number of cages in the new zoo is', len(new_zoo))\n",
    "print('All animals in new zoo are', new_zoo)\n",
    "print('Animals brought from old zoo are', new_zoo[2])\n",
    "print('Last animal brought from old zoo is', new_zoo[2][2])\n",
    "print('Last animal brought from old zoo is', zoo[2])\n",
    "print('Number of animals in the new zoo is',len(new_zoo)-1+len(zoo))\n",
    "len(new_zoo),len(zoo)"
   ]
  },
  {
   "cell_type": "markdown",
   "metadata": {},
   "source": [
    "### Sets \n",
    "#### Set and Booleans\n",
    "There are two other object types in Python that we should quickly cover: Sets and Booleans. \n",
    "#### Sets\n",
    "Sets are an unordered collection of unique elements. We can construct them by using the set() function. Let's go ahead and make a set to see how it works\n"
   ]
  },
  {
   "cell_type": "code",
   "execution_count": null,
   "metadata": {},
   "outputs": [],
   "source": [
    "### Creating a Set\n",
    "#### Sets can be created with set constructor or by directly defining the values in a {} brackets\n"
   ]
  },
  {
   "cell_type": "code",
   "execution_count": 148,
   "metadata": {},
   "outputs": [
    {
     "name": "stdout",
     "output_type": "stream",
     "text": [
      "<class 'set'>\n",
      "<class 'dict'>\n",
      "<class 'set'>\n",
      "<class 'dict'>\n"
     ]
    }
   ],
   "source": [
    "a1 = set() #list() #dict() #tuple()\n",
    "print(type(a1))\n",
    "b1 = {1:2,2:3}\n",
    "print(type(b1))\n",
    "b2 = {1,2}\n",
    "print(type(b2))\n",
    "b3 = {}\n",
    "print(type(b3))"
   ]
  },
  {
   "cell_type": "markdown",
   "metadata": {},
   "source": [
    "#### Various methods in Set \n",
    "<ul>\n",
    "<li>membership \"in\"</li>\n",
    "<li>isdisjoint</li>\n",
    "<li>subset</li>\n",
    "<li>propersubset</li>\n",
    "<li>superset</li>\n",
    "<li>propersuperset</li>\n",
    "<li>union</li>\n",
    "<li>intersection</li>\n",
    "<li>difference</li>\n",
    "<li>intersection_update</li>\n",
    "<li>difference_update</li>\n",
    "<li>symmetric_difference_update</li>\n",
    "<li>copy</li>\n",
    "<li>add</li>\n",
    "<li>pop</li>\n",
    "<li>remove</li>\n",
    "<li>discard</li>\n",
    "<li>clear</li>\n",
    "<ul>"
   ]
  },
  {
   "cell_type": "code",
   "execution_count": 82,
   "metadata": {},
   "outputs": [
    {
     "name": "stdout",
     "output_type": "stream",
     "text": [
      "True\n",
      "######################\n",
      "checking membership of z not in ab code: z not in ab : result =False\n",
      "######################\n"
     ]
    }
   ],
   "source": [
    "a = {1,2,3,4,5}\n",
    "#a=1,2\n",
    "#print(type(a))\n",
    "b= {4,5,6}\n",
    "c ={6,7,8}\n",
    "d= {6,7,9,10,11 }\n",
    "e ={0,1,6,7,11,22,33}\n",
    "f = {1,2,3,6,7,8}\n",
    "ab  ={1,2, 3, 4, 5}\n",
    "aa = {\"ab\",\"bc\",\"de\"}\n",
    "z =4\n",
    "\n",
    "#print(len(a))\n",
    "print(z in b)\n",
    "print(\"######################\")\n",
    "#checking conditions\n",
    "print(\"checking membership of z not in ab code: z not in ab : result ={0}\".format(z not in ab))\n",
    "print(\"######################\")\n"
   ]
  },
  {
   "cell_type": "code",
   "execution_count": 83,
   "metadata": {},
   "outputs": [
    {
     "name": "stdout",
     "output_type": "stream",
     "text": [
      "checking if set a and ab  are disjoint a is disjoint to  ab code: a.isdisjoint(ab): result: False \n",
      "######################\n",
      "checking if set a and ab  are disjoint a is disjoint to  c code: a.isdisjoint(c): result: True \n",
      "######################\n"
     ]
    }
   ],
   "source": [
    "print(\"checking if set a and ab  are disjoint a is disjoint to  ab code: a.isdisjoint(ab): result: {0} \".format(a.isdisjoint(ab)))\n",
    "print(\"######################\")\n",
    "print(\"checking if set a and ab  are disjoint a is disjoint to  c code: a.isdisjoint(c): result: {0} \".format(a.isdisjoint(c)))\n",
    "print(\"######################\")"
   ]
  },
  {
   "cell_type": "code",
   "execution_count": 84,
   "metadata": {},
   "outputs": [
    {
     "name": "stdout",
     "output_type": "stream",
     "text": [
      "check if all the members of a are members of set ab code:- a.issubset(ab): result - True\n",
      "######################\n",
      "check if all the members of a are members of set ab, , using symbol code: a <= ab : result   - True\n",
      "check if all the members of a are members of set ab and not equals to set ab ie proper subset code: a < ab : result - False\n",
      "######################\n"
     ]
    }
   ],
   "source": [
    "print(\"check if all the members of a are members of set ab code:- a.issubset(ab): result - {0}\".format(a.issubset(ab)))\n",
    "print(\"######################\")\n",
    "print(\"check if all the members of a are members of set ab, , using symbol code: a <= ab : result   - {0}\".format(a <= ab))\n",
    "print(\"check if all the members of a are members of set ab and not equals to set ab ie proper subset code: a < ab : result - {0}\".format(a < ab))\n",
    "print(\"######################\")"
   ]
  },
  {
   "cell_type": "code",
   "execution_count": 151,
   "metadata": {},
   "outputs": [
    {
     "name": "stdout",
     "output_type": "stream",
     "text": [
      "check if all the members of a are members of set ab, here ab is called as superset of a code: ab.issuperset(a) : result - True \n",
      "check if all the members of a are members of set ab, here ab is called as superset of a, using symbol code: ab >= a result:  - True\n",
      "######################\n",
      "check if all the members of a are members of set ab, here ab is called as superset of a, and is a proper superset code: ab > a result: - False\n"
     ]
    }
   ],
   "source": [
    "print(\"check if all the members of a are members of set ab, here ab is called as superset of a code: ab.issuperset(a) : result - {0} \".format(ab.issuperset(a)))\n",
    "print(\"check if all the members of a are members of set ab, here ab is called as superset of a, using symbol code: ab >= a result:  - {0}\".format(ab >= a))\n",
    "print(\"######################\")\n",
    "print(\"check if all the members of a are members of set ab, here ab is called as superset of a, and is a proper superset code: ab > a result: - {0}\".format(ab > a))"
   ]
  },
  {
   "cell_type": "code",
   "execution_count": 85,
   "metadata": {},
   "outputs": [
    {
     "name": "stdout",
     "output_type": "stream",
     "text": [
      "Union or combining elements from two sets code: a.union(b) : result: {1, 2, 3, 4, 5, 6}\n",
      "Union or combining elements from two sets - using symbol  code: a|b : result: {1, 2, 3, 4, 5, 6}\n",
      "######################\n"
     ]
    }
   ],
   "source": [
    "#operations\n",
    "print(\"Union or combining elements from two sets code: a.union(b) : result: {}\".format(a.union(b)))\n",
    "print(\"Union or combining elements from two sets - using symbol  code: a|b : result: {}\".format(a|b))\n",
    "print(\"######################\")\n"
   ]
  },
  {
   "cell_type": "code",
   "execution_count": 167,
   "metadata": {},
   "outputs": [
    {
     "name": "stdout",
     "output_type": "stream",
     "text": [
      "finding the common items between two sets code: a.intersection(b) result: - {4, 5}\n",
      "finding the common items between two sets -using symbol code: a & b result: - {4, 5}\n",
      "######################\n"
     ]
    }
   ],
   "source": [
    "print(\"finding the common items between two sets code: a.intersection(b) result: - {0}\".format(a.intersection(b)))\n",
    "print(\"finding the common items between two sets -using symbol code: a & b result: - {0}\".format(a&b))\n",
    "print(\"######################\")\n"
   ]
  },
  {
   "cell_type": "code",
   "execution_count": 86,
   "metadata": {},
   "outputs": [
    {
     "name": "stdout",
     "output_type": "stream",
     "text": [
      "find the difference between two sets code: a.difference(b) {1, 2, 3}\n",
      "find the difference between two sets, a -b code: a-b : result: - {1, 2, 3} \n",
      "######################\n",
      "C set is {8, 6, 7} \n",
      "D set is {6, 7, 9, 10, 11} \n",
      "intersection update between c and d: code: c.intersection_update(d) : result - None\n",
      "C set is {6, 7} \n",
      "D set is {6, 7, 9, 10, 11} \n"
     ]
    }
   ],
   "source": [
    "print(\"find the difference between two sets code: a.difference(b) {0}\".format(a.difference(b)))\n",
    "print(\"find the difference between two sets, a -b code: a-b : result: - {0} \".format(a-b))\n",
    "#print(\"udpating one set with elements in other set code: c.update(b) - result {0}\".format(c.update(b)))\n",
    "print(\"######################\")\n",
    "#c|=b\n",
    "print(\"C set is {0} \".format(c))\n",
    "print(\"D set is {0} \".format(d))\n",
    "# \n",
    "print(\"intersection update between c and d: code: c.intersection_update(d) : result - {0}\".format(c.intersection_update(d)))\n",
    "#c &= d \n",
    "print(\"C set is {0} \".format(c))\n",
    "print(\"D set is {0} \".format(d))"
   ]
  },
  {
   "cell_type": "code",
   "execution_count": 156,
   "metadata": {},
   "outputs": [
    {
     "name": "stdout",
     "output_type": "stream",
     "text": [
      "C set value is  {8, 6, 7} \n",
      "E set value is  {0, 1, 33, 6, 7, 11, 22} \n",
      "difference updated between e and c code: e.difference_update(c) : result - None\n",
      "E set becomes {0, 1, 33, 11, 22} \n",
      "######################\n"
     ]
    }
   ],
   "source": [
    "# \n",
    "print(\"C set value is  {0} \".format(c)) \n",
    "print(\"E set value is  {0} \".format(e)) \n",
    "print(\"difference updated between e and c code: e.difference_update(c) : result - {0}\".format(e.difference_update(c)))\n",
    "print(\"E set becomes {0} \".format(e))\n",
    "print(\"######################\")"
   ]
  },
  {
   "cell_type": "code",
   "execution_count": 157,
   "metadata": {},
   "outputs": [
    {
     "name": "stdout",
     "output_type": "stream",
     "text": [
      "D set becomes {6, 7, 9, 10, 11} \n",
      "######################\n",
      "B set value is  {4, 5, 6} \n",
      "C set value is  {8, 6, 7} \n",
      "D set value is  {6, 7, 9, 10, 11} \n",
      "difference updated between b and d , updates the code: b.difference_update(d) : result - None\n",
      "B set becomes {4, 5} \n",
      "B set becomes {4, 5} \n",
      "######################\n"
     ]
    }
   ],
   "source": [
    "\n",
    "print(\"D set becomes {0} \".format(d))\n",
    "print(\"######################\")  \n",
    "# \n",
    "#print(\"intersection update between c and d: code: d.intersection_update(c) : result - {0}\".format(d.intersection_update(c)))\n",
    "# print(\"D set becomes {0} \".format(d))\n",
    "# \n",
    "#\n",
    "print(\"B set value is  {0} \".format(b)) \n",
    "print(\"C set value is  {0} \".format(c)) \n",
    "print(\"D set value is  {0} \".format(d)) \n",
    " \n",
    "print(\"difference updated between b and d , updates the code: b.difference_update(d) : result - {0}\".format(b.difference_update(d)))\n",
    "print(\"B set becomes {0} \".format(b))\n",
    "#print(\"difference updated between b and c , updates the using the symbol: b -= c : result - {0}\".format(b -= c))\n",
    "print(\"B set becomes {0} \".format(b))\n",
    "print(\"######################\")"
   ]
  },
  {
   "cell_type": "code",
   "execution_count": 159,
   "metadata": {},
   "outputs": [
    {
     "name": "stdout",
     "output_type": "stream",
     "text": [
      "F set becomes {1, 2, 3, 6, 7, 8} after symmetric difference\n",
      "A set becomes {2, 1, 4, 5, 3} after symmetric difference\n",
      "symmetric difference updated between a and f code: a.symmetric_difference_update(f) : result - None\n",
      "A set becomes {4, 5, 7, 6, 8} \n",
      "doing the operation again\n",
      "F set becomes {1, 2, 3, 6, 7, 8} after symmetric difference\n",
      "A set becomes {3, 4, 5, 2, 1} after symmetric difference\n"
     ]
    }
   ],
   "source": [
    "\n",
    "print(\"F set becomes {0} after symmetric difference\".format(f))\n",
    "  \n",
    "print(\"A set becomes {0} after symmetric difference\".format(a))\n",
    "\n",
    "print(\"symmetric difference updated between a and f code: a.symmetric_difference_update(f) : result - {0}\".format(a.symmetric_difference_update(f)))\n",
    "print(\"A set becomes {0} \".format(a))\n",
    "  \n",
    "print(\"doing the operation again\") \n",
    "a ^= f\n",
    "print(\"F set becomes {0} after symmetric difference\".format(f))\n",
    "  \n",
    "print(\"A set becomes {0} after symmetric difference\".format(a))\n",
    "\n"
   ]
  },
  {
   "cell_type": "markdown",
   "metadata": {},
   "source": []
  },
  {
   "cell_type": "code",
   "execution_count": 87,
   "metadata": {},
   "outputs": [
    {
     "name": "stdout",
     "output_type": "stream",
     "text": [
      "{'de', 'ab', 'bc'}\n",
      "copying to another variable z {'de', 'ab', 'bc'}\n",
      "{'de', 'ab', 'bc'}\n"
     ]
    }
   ],
   "source": [
    "# \n",
    "print(aa)\n",
    "z= aa.copy()\n",
    "print(\"copying to another variable z {0}\".format(z))\n",
    "print(z)"
   ]
  },
  {
   "cell_type": "code",
   "execution_count": 88,
   "metadata": {},
   "outputs": [
    {
     "name": "stdout",
     "output_type": "stream",
     "text": [
      "add condition result {'de', 'ab', 'xy', 'bc'}\n",
      "add condition result {'xy1', 'xy', 'de', 'ab', 'bc'}\n",
      "add condition result {'xy1', 'xy', 'de', 'ab', 'ay', 'bc'}\n",
      "add condition result {'xy1', 'ay1', 'xy', 'de', 'ab', 'ay', 'bc'}\n",
      "add condition result {'xy1', 'ay1', 'xy', 'de', 'ab', 'ay', 'bc', 'abc'}\n"
     ]
    }
   ],
   "source": [
    "aa.add(\"xy\")\n",
    "\n",
    "\n",
    "print(\"add condition result {0}\".format(aa))\n",
    "aa.add(\"xy1\")\n",
    "\n",
    "\n",
    "print(\"add condition result {0}\".format(aa))\n",
    "aa.add(\"ay\")\n",
    "\n",
    "\n",
    "print(\"add condition result {0}\".format(aa))\n",
    "aa.add(\"ay1\")\n",
    "\n",
    "#aa.sort()\n",
    "\n",
    "print(\"add condition result {0}\".format(aa))\n",
    "aa.add(\"abc\")\n",
    "print(\"add condition result {0}\".format(aa))\n"
   ]
  },
  {
   "cell_type": "markdown",
   "metadata": {},
   "source": []
  },
  {
   "cell_type": "code",
   "execution_count": 92,
   "metadata": {},
   "outputs": [
    {
     "name": "stdout",
     "output_type": "stream",
     "text": [
      "pop condition result {'ab', 'ay', 'bc', 'abc'}\n"
     ]
    }
   ],
   "source": [
    "aa.pop()\n",
    "print(\"pop condition result {}\".format(aa))\n"
   ]
  },
  {
   "cell_type": "markdown",
   "metadata": {},
   "source": []
  },
  {
   "cell_type": "code",
   "execution_count": 94,
   "metadata": {},
   "outputs": [
    {
     "ename": "KeyError",
     "evalue": "'ay'",
     "output_type": "error",
     "traceback": [
      "\u001b[1;31m---------------------------------------------------------------------------\u001b[0m",
      "\u001b[1;31mKeyError\u001b[0m                                  Traceback (most recent call last)",
      "\u001b[1;32m<ipython-input-94-08ac80fc6d0f>\u001b[0m in \u001b[0;36m<module>\u001b[1;34m\u001b[0m\n\u001b[1;32m----> 1\u001b[1;33m \u001b[0maa\u001b[0m\u001b[1;33m.\u001b[0m\u001b[0mremove\u001b[0m\u001b[1;33m(\u001b[0m\u001b[1;34m\"ay\"\u001b[0m\u001b[1;33m)\u001b[0m\u001b[1;33m\u001b[0m\u001b[1;33m\u001b[0m\u001b[0m\n\u001b[0m\u001b[0;32m      2\u001b[0m \u001b[0mprint\u001b[0m\u001b[1;33m(\u001b[0m\u001b[1;34m\"remove condition result {}\"\u001b[0m\u001b[1;33m.\u001b[0m\u001b[0mformat\u001b[0m\u001b[1;33m(\u001b[0m\u001b[0maa\u001b[0m\u001b[1;33m)\u001b[0m\u001b[1;33m)\u001b[0m\u001b[1;33m\u001b[0m\u001b[1;33m\u001b[0m\u001b[0m\n",
      "\u001b[1;31mKeyError\u001b[0m: 'ay'"
     ]
    }
   ],
   "source": [
    "aa.remove(\"ay\")\n",
    "print(\"remove condition result {}\".format(aa))"
   ]
  },
  {
   "cell_type": "markdown",
   "metadata": {},
   "source": []
  },
  {
   "cell_type": "code",
   "execution_count": 95,
   "metadata": {},
   "outputs": [
    {
     "name": "stdout",
     "output_type": "stream",
     "text": [
      "discard condition result {'ab', 'bc'}\n"
     ]
    }
   ],
   "source": [
    "aa.discard(\"abc\")\n",
    "print(\"discard condition result {0}\".format(aa))"
   ]
  },
  {
   "cell_type": "markdown",
   "metadata": {},
   "source": [
    "Clear Items"
   ]
  },
  {
   "cell_type": "code",
   "execution_count": 96,
   "metadata": {},
   "outputs": [
    {
     "name": "stdout",
     "output_type": "stream",
     "text": [
      "clear condition result set()\n"
     ]
    }
   ],
   "source": [
    "aa.clear()\n",
    "print(\"clear condition result {0}\".format(aa))"
   ]
  },
  {
   "cell_type": "markdown",
   "metadata": {},
   "source": [
    "# Dictionaries\n",
    "\n",
    "We've been learning about *sequences* in Python but now we're going to switch gears and learn about *mappings* in Python. If you're familiar with other languages you can think of these Dictionaries as hash tables. \n",
    "\n",
    "This section will serve as a brief introduction to dictionaries and consist of:\n",
    "\n",
    "    1.) Constructing a Dictionary\n",
    "    2.) Accessing objects from a dictionary\n",
    "    3.) Nesting Dictionaries\n",
    "    4.) Basic Dictionary Methods\n",
    "\n",
    "So what are mappings? Mappings are a collection of objects that are stored by a *key*, unlike a sequence that stored objects by their relative position. This is an important distinction, since mappings won't retain order since they have objects defined by a key.\n",
    "\n",
    "A Python dictionary consists of a key and then an associated value. That value can be almost any Python object.\n",
    "\n",
    "\n",
    "## Constructing a Dictionary\n",
    "Let's see how we can construct dictionaries to get a better understanding of how they work!m"
   ]
  },
  {
   "cell_type": "code",
   "execution_count": 171,
   "metadata": {},
   "outputs": [
    {
     "name": "stdout",
     "output_type": "stream",
     "text": [
      "{1: '1', '2': 2} \n",
      " {} \n",
      " {1: '2', '2': 4} \n",
      " {}\n"
     ]
    }
   ],
   "source": [
    "b = {1:\"1\",\"2\":2} \n",
    "c = {} \n",
    "d = dict({1:\"2\",\"2\":4})\n",
    "e = dict()\n",
    "print(b,\"\\n\",c,\"\\n\",d,\"\\n\",e)"
   ]
  },
  {
   "cell_type": "code",
   "execution_count": 97,
   "metadata": {
    "scrolled": true
   },
   "outputs": [
    {
     "name": "stdout",
     "output_type": "stream",
     "text": [
      "<class 'dict'>\n",
      "<class 'dict'>\n",
      "<class 'dict'>\n",
      "####################################################\n",
      "{'type': 'employee', 'name': 'John', 'age': 41, 'dept': 'HR', 1: 'description1', 2: 'description2', 'joiningdate': '2019 07 25 10 37 15 904773', datetime.datetime(2019, 7, 25, 10, 37, 15, 904773): 'Date of Joining with key date in date time format', '2019:07:25': 'Date of Joining with key date in string format'}\n",
      "2019-07-25 10:37:15.904773\n",
      "<class 'datetime.datetime'>\n"
     ]
    }
   ],
   "source": [
    "#Creating a dictionary\n",
    "dict1 = {}\n",
    "dict2 ={'name':'john','age': 25}\n",
    "dict3 = dict()\n",
    "#creating a dictionary with values\n",
    "print(type(dict1))\n",
    "print(type(dict2))\n",
    "print(type(dict3))\n",
    "print(\"####################################################\")\n",
    "#lets have multiple type of keys for a dictionary\n",
    "from datetime import datetime\n",
    "mydict =    {\n",
    "  \"type\": \"employee\",\n",
    "  \"name\": \"John\",\n",
    "  \"age\": 41,\n",
    "  \"dept\": \"HR\",\n",
    "  1:\"description1\",\n",
    "  2: \"description2\",\n",
    "  \"joiningdate\":  datetime.now().strftime('%Y %m %d %H %M %S %f'),\n",
    "  datetime.now(): \"Date of Joining with key date in date time format\",\n",
    "  datetime.now().strftime('%Y:%m:%d'): \"Date of Joining with key date in string format\"\n",
    "}\n",
    "print(mydict)\n",
    "print(datetime.now())\n",
    "print(type(datetime.now()))"
   ]
  },
  {
   "cell_type": "code",
   "execution_count": 99,
   "metadata": {},
   "outputs": [
    {
     "name": "stdout",
     "output_type": "stream",
     "text": [
      "2019-07-25 10:38:15.466198\n",
      "2019-07-25\n",
      "23:35:35\n"
     ]
    }
   ],
   "source": [
    "import datetime\n",
    "print(datetime.datetime.now())\n",
    "print(datetime.date.today())\n",
    "a = datetime.time(23,35,35)\n",
    "print(a)"
   ]
  },
  {
   "cell_type": "markdown",
   "metadata": {},
   "source": [
    "Lets add another key named  \"name\": \"John1\", Since Name is already defined in the dictionary , It will update the key with the new value, if the value is “John1” then \n"
   ]
  },
  {
   "cell_type": "code",
   "execution_count": 100,
   "metadata": {},
   "outputs": [
    {
     "name": "stdout",
     "output_type": "stream",
     "text": [
      "{'type': 'employee', 'name': 'John1', 'age': 41, 'dept': 'HR', 1: \"description1: this description is holding a key 1 and it's not an  index\", 2: 'description2', 'joiningdate': '2019-07-25', datetime.datetime(2019, 7, 25, 10, 38, 24, 992886): 'Date of Joining with key date in date time format', '2019-07-25': 'Date of Joining with key date in string format'}\n",
      "<class 'dict'>\n"
     ]
    }
   ],
   "source": [
    "#Datetime library is used include date for keys and values.\n",
    "from datetime import datetime\n",
    "thisdict = {\n",
    "  \"type\": \"employee\",\n",
    "  \"name\": \"John\",\n",
    "  \"name\": \"John1\",\n",
    "  \"age\": 41,\n",
    "  \"dept\": \"HR\",\n",
    "  1:\"description1: this description is holding a key 1 and it's not an  index\",\n",
    "  2: \"description2\",\n",
    "  \"joiningdate\":  datetime.now().strftime('%Y-%m-%d'),\n",
    "  datetime.now(): \"Date of Joining with key date in date time format\",\n",
    "  datetime.now().strftime('%Y-%m-%d'): \"Date of Joining with key date in string format\"\n",
    "}\n",
    "print(thisdict)\n",
    "print(type(thisdict))\n"
   ]
  },
  {
   "cell_type": "code",
   "execution_count": null,
   "metadata": {},
   "outputs": [],
   "source": [
    "### Dictionaries can be indexed with keys not with index values or positions"
   ]
  },
  {
   "cell_type": "code",
   "execution_count": 102,
   "metadata": {},
   "outputs": [
    {
     "name": "stdout",
     "output_type": "stream",
     "text": [
      "John1\n",
      "description1: this description is holding a key 1 and it's not an  index\n",
      "description2\n"
     ]
    },
    {
     "ename": "KeyError",
     "evalue": "0",
     "output_type": "error",
     "traceback": [
      "\u001b[1;31m---------------------------------------------------------------------------\u001b[0m",
      "\u001b[1;31mKeyError\u001b[0m                                  Traceback (most recent call last)",
      "\u001b[1;32m<ipython-input-102-a510592c643f>\u001b[0m in \u001b[0;36m<module>\u001b[1;34m\u001b[0m\n\u001b[0;32m      2\u001b[0m \u001b[0mprint\u001b[0m\u001b[1;33m(\u001b[0m\u001b[0mthisdict\u001b[0m\u001b[1;33m[\u001b[0m\u001b[1;36m1\u001b[0m\u001b[1;33m]\u001b[0m\u001b[1;33m)\u001b[0m\u001b[1;33m\u001b[0m\u001b[1;33m\u001b[0m\u001b[0m\n\u001b[0;32m      3\u001b[0m \u001b[0mprint\u001b[0m\u001b[1;33m(\u001b[0m\u001b[0mthisdict\u001b[0m\u001b[1;33m[\u001b[0m\u001b[1;36m2\u001b[0m\u001b[1;33m]\u001b[0m\u001b[1;33m)\u001b[0m\u001b[1;33m\u001b[0m\u001b[1;33m\u001b[0m\u001b[0m\n\u001b[1;32m----> 4\u001b[1;33m \u001b[0mprint\u001b[0m\u001b[1;33m(\u001b[0m\u001b[0mthisdict\u001b[0m\u001b[1;33m[\u001b[0m\u001b[1;36m0\u001b[0m\u001b[1;33m]\u001b[0m\u001b[1;33m)\u001b[0m\u001b[1;33m\u001b[0m\u001b[1;33m\u001b[0m\u001b[0m\n\u001b[0m",
      "\u001b[1;31mKeyError\u001b[0m: 0"
     ]
    }
   ],
   "source": [
    "print(thisdict[\"name\"])\n",
    "print(thisdict[1])\n",
    "print(thisdict[2])\n",
    "print(thisdict[0])\n"
   ]
  },
  {
   "cell_type": "markdown",
   "metadata": {},
   "source": [
    "A quick note, Python has a built-in method of doing a self subtraction or addition (or multiplication or division). We could have also used += or -= for the above statement. For example:"
   ]
  },
  {
   "cell_type": "code",
   "execution_count": 103,
   "metadata": {},
   "outputs": [
    {
     "name": "stdout",
     "output_type": "stream",
     "text": [
      "4\n",
      "6\n"
     ]
    }
   ],
   "source": [
    "my_dict = {'key1':123,'key2':[12,23,33],'key3':['item0','item1','item2']}\n",
    "a = 2\n",
    "a = a+2 \n",
    "print(a)\n",
    "a +=2 \n",
    "print(a)"
   ]
  },
  {
   "cell_type": "code",
   "execution_count": 201,
   "metadata": {},
   "outputs": [
    {
     "name": "stdout",
     "output_type": "stream",
     "text": [
      "Before subtraction: {'key1': 123, 'key2': [12, 23, 33], 'key3': ['item0', 'item1', 'item2']}\n",
      "After subtraction: {'key1': 122, 'key2': [12, 23, 32], 'key3': ['item0', 'item1', 'item2']}\n",
      "After subtraction: {'key1': 122, 'key2': [12, 23, 32], 'key3': ['item0', 'python', 'item2']}\n"
     ]
    }
   ],
   "source": [
    "# Set the object equal to itself minus 123 \n",
    "print(\"Before subtraction: {}\".format(my_dict))\n",
    "my_dict['key1'] -= 1\n",
    "my_dict['key2'][2] -= 1\n",
    "print(\"After subtraction: {}\".format(my_dict))\n",
    "my_dict[\"key3\"][1] = \"python\"\n",
    "print(\"After subtraction: {}\".format(my_dict))"
   ]
  },
  {
   "cell_type": "code",
   "execution_count": 104,
   "metadata": {
    "scrolled": true
   },
   "outputs": [
    {
     "name": "stdout",
     "output_type": "stream",
     "text": [
      "dict_keys(['apple', 'banana', 'cherry']) <class 'dict_keys'>\n",
      "['apple', 'banana', 'cherry']\n",
      "####################################\n",
      "dict_values([3, 5, 50]) <class 'dict_values'>\n",
      "[3, 5, 50]\n",
      "####################################\n",
      "dict_items([('apple', 3), ('banana', 5), ('cherry', 50)]) <class 'dict_items'>\n",
      "[('apple', 3), ('banana', 5), ('cherry', 50)]\n"
     ]
    }
   ],
   "source": [
    "fruitbasket = { \"apple\":3, \"banana\":5, \"cherry\":50 }\n",
    "\n",
    "print(fruitbasket.keys(),type(fruitbasket.keys()))\n",
    "print( list( fruitbasket.keys() ) )\n",
    "\n",
    "print(\"####################################\")\n",
    "print(fruitbasket.values() , type(fruitbasket.values()))\n",
    "print( list(fruitbasket.values() ) )\n",
    "print(\"####################################\")\n",
    "print(fruitbasket.items(),type(fruitbasket.items()))\n",
    "print( list( fruitbasket.items() ) )"
   ]
  },
  {
   "cell_type": "markdown",
   "metadata": {},
   "source": [
    "We can also create keys by assignment. For instance if we started off with an empty dictionary, we could continually add to it:"
   ]
  },
  {
   "cell_type": "code",
   "execution_count": 105,
   "metadata": {},
   "outputs": [
    {
     "name": "stdout",
     "output_type": "stream",
     "text": [
      "{'flower1': 'Rose', 'flower2': 'Shoeflower', 'flower3': 'Tulips', 'flower4': 'Daisy', 'flower5': 'Lotus'}\n",
      "{'flower1': 'Rose', 'flower2': 'Shoeflower', 'flower3': 'Tulips', 'flower4': 'Daisy', 'flower5': 'Lotus', 'flower6': 'Rose'}\n"
     ]
    }
   ],
   "source": [
    "flowersdict = {}\n",
    "flowersdict[\"flower1\"] = \"Rose\"\n",
    "flowersdict[\"flower2\"] = \"Shoeflower\"\n",
    "flowersdict[\"flower3\"] = \"Tulips\"\n",
    "flowersdict[\"flower4\"] = \"Daisy\"\n",
    "flowersdict[\"flower5\"] = \"Lotus\"\n",
    "print(flowersdict)\n",
    "flowersdict.update({\"flower6\":\"Rose\"})\n",
    "print(flowersdict)"
   ]
  },
  {
   "cell_type": "markdown",
   "metadata": {},
   "source": [
    "## retrieving dict items"
   ]
  },
  {
   "cell_type": "code",
   "execution_count": 106,
   "metadata": {},
   "outputs": [
    {
     "name": "stdout",
     "output_type": "stream",
     "text": [
      "dict_keys(['flower1', 'flower2', 'flower3', 'flower4', 'flower5', 'flower6'])\n",
      "dict_values(['Rose', 'Shoeflower', 'Tulips', 'Daisy', 'Lotus', 'Rose'])\n",
      "dict_items([('flower1', 'Rose'), ('flower2', 'Shoeflower'), ('flower3', 'Tulips'), ('flower4', 'Daisy'), ('flower5', 'Lotus'), ('flower6', 'Rose')])\n"
     ]
    }
   ],
   "source": [
    "print(flowersdict.keys())\n",
    "print(flowersdict.values())\n",
    "print(flowersdict.items())\n"
   ]
  },
  {
   "cell_type": "markdown",
   "metadata": {},
   "source": [
    "## Nesting with Dictionaries\n",
    "\n",
    "Hopefully you're starting to see how powerful Python is with its flexibility of nesting objects and calling methods on them. Let's see a dictionary nested inside a dictionary:"
   ]
  },
  {
   "cell_type": "code",
   "execution_count": 107,
   "metadata": {},
   "outputs": [
    {
     "name": "stdout",
     "output_type": "stream",
     "text": [
      "<class 'dict'>\n",
      "dict_items([('Animals', {'Carnivores': {'carnivore1': 'lion', 'carnivore2': 'Tiger'}, 'Herbivores': {'Herbivore1': 'Deer', 'Herbivore2': 'Antelope'}})])\n",
      "<class 'str'> Animals\n",
      "<class 'dict'> {'Carnivores': {'carnivore1': 'lion', 'carnivore2': 'Tiger'}, 'Herbivores': {'Herbivore1': 'Deer', 'Herbivore2': 'Antelope'}}\n",
      "<class 'str'> Carnivores\n",
      "<class 'dict'> {'carnivore1': 'lion', 'carnivore2': 'Tiger'}\n",
      "<class 'str'> Herbivores\n",
      "<class 'dict'> {'Herbivore1': 'Deer', 'Herbivore2': 'Antelope'}\n"
     ]
    }
   ],
   "source": [
    "#import json\n",
    "# Dictionary nested inside a dictionary nested inside a dictionary\n",
    "d = {'Animals':{'Carnivores':{'carnivore1':'lion','carnivore2':'Tiger'},'Herbivores':{'Herbivore1':'Deer','Herbivore2':'Antelope'}}}\n",
    "#print(json.dumps(d,pretty =True))\n",
    "print(type(d))\n",
    "print(d.items())\n",
    "for x,y in d.items():\n",
    "    print(type(x),x)\n",
    "    print(type(y),y)\n",
    "    if(type(y) == dict):\n",
    "        for x1,y1 in y.items():\n",
    "            print(type(x1),x1)\n",
    "            print(type(y1),y1)\n",
    "    "
   ]
  },
  {
   "cell_type": "markdown",
   "metadata": {},
   "source": [
    "#### A few Dictionary Methods\n",
    "\n",
    "There are a few methods we can call on a dictionary. Let's get a quick introduction to a few of them:"
   ]
  },
  {
   "cell_type": "markdown",
   "metadata": {},
   "source": [
    "<table class=\"views-table cols-2\">\n",
    "         <thead>\n",
    "      <tr>\n",
    "                  <th >\n",
    "            Method          </th>\n",
    "                  <th>\n",
    "            Description          </th>\n",
    "              </tr>\n",
    "    </thead>\n",
    "    <tbody>\n",
    "          <tr>\n",
    "                  <td>\n",
    "            <a>Python Dictionary clear()</a>          </td>\n",
    "                  <td>\n",
    "            Removes all Items          </td>\n",
    "              </tr>\n",
    "          <tr>\n",
    "                  <td>\n",
    "            <a>Python Dictionary copy()</a>          </td>\n",
    "                  <td>\n",
    "            Returns Shallow Copy of a Dictionary          </td>\n",
    "              </tr>\n",
    "          <tr>\n",
    "                  <td>\n",
    "            Python Dictionary fromkeys()          \n",
    "              </td>\n",
    "                       <td> creates dictionary from given sequence          </td>\n",
    "              </tr>\n",
    "          <tr>\n",
    "                  <td>\n",
    "            Python Dictionary get()</a>          </td>\n",
    "                  <td class=\"views-field views-field-field-c-short-description\">\n",
    "            Returns Value of The Key          </td>\n",
    "              </tr>\n",
    "          <tr>\n",
    "                  <td class=\"views-field views-field-title\">\n",
    "            <a href=\"/python-programming/methods/dictionary/items\">Python Dictionary items()</a>          </td>\n",
    "                  <td class=\"views-field views-field-field-c-short-description\">\n",
    "            returns view of dictionary's (key, value) pair          </td>\n",
    "              </tr>\n",
    "          <tr>\n",
    "                  <td class=\"views-field views-field-title\">\n",
    "            <a href=\"/python-programming/methods/dictionary/keys\">Python Dictionary keys()</a>          </td>\n",
    "                  <td class=\"views-field views-field-field-c-short-description\">\n",
    "            Returns View Object of All Keys          </td>\n",
    "              </tr>\n",
    "          <tr>\n",
    "                  <td class=\"views-field views-field-title\">\n",
    "            <a href=\"/python-programming/methods/dictionary/popitem\">Python Dictionary popitem()</a>          </td>\n",
    "                  <td class=\"views-field views-field-field-c-short-description\">\n",
    "            Returns &amp; Removes Element From Dictionary          </td>\n",
    "              </tr>\n",
    "          <tr>\n",
    "                  <td class=\"views-field views-field-title\">\n",
    "            <a href=\"/python-programming/methods/dictionary/setdefault\">Python Dictionary setdefault()</a>          </td>\n",
    "                  <td class=\"views-field views-field-field-c-short-description\">\n",
    "            Inserts Key With a Value if Key is not Present          </td>\n",
    "              </tr>\n",
    "          <tr>\n",
    "                  <td class=\"views-field views-field-title\">\n",
    "            <a href=\"/python-programming/methods/dictionary/pop\">Python Dictionary pop()</a>          </td>\n",
    "                  <td class=\"views-field views-field-field-c-short-description\">\n",
    "            removes and returns element having given key          </td>\n",
    "              </tr>\n",
    "          <tr>\n",
    "                  <td class=\"views-field views-field-title\">\n",
    "            <a href=\"/python-programming/methods/dictionary/values\">Python Dictionary values()</a>          </td>\n",
    "                  <td class=\"views-field views-field-field-c-short-description\">\n",
    "            returns view of all values in dictionary          </td>\n",
    "              </tr>\n",
    "          <tr>\n",
    "                  <td class=\"views-field views-field-title\">\n",
    "            <a href=\"/python-programming/methods/dictionary/update\">Python Dictionary update()</a>          </td>\n",
    "                  <td class=\"views-field views-field-field-c-short-description\">\n",
    "            Updates the Dictionary          </td>\n",
    "              </tr>\n",
    "          <tr>\n",
    "                  <td class=\"views-field views-field-title\">\n",
    "            <a href=\"/python-programming/methods/built-in/any\">Python any()</a>          </td>\n",
    "                  <td class=\"views-field views-field-field-c-short-description\">\n",
    "            Checks if any Element of an Iterable is True          </td>\n",
    "              </tr>\n",
    "          <tr>\n",
    "                  <td class=\"views-field views-field-title\">\n",
    "            <a href=\"/python-programming/methods/built-in/all\">Python all()</a>          </td>\n",
    "                  <td class=\"views-field views-field-field-c-short-description\">\n",
    "            returns true when all elements in iterable is true          </td>\n",
    "              </tr>\n",
    "          <tr>\n",
    "                  <td class=\"views-field views-field-title\">\n",
    "            <a href=\"/python-programming/methods/built-in/ascii\">Python ascii()</a>          </td>\n",
    "                  <td class=\"views-field views-field-field-c-short-description\">\n",
    "            Returns String Containing Printable Representation          </td>\n",
    "              </tr>\n",
    "          <tr>\n",
    "                  <td class=\"views-field views-field-title\">\n",
    "            <a href=\"/python-programming/methods/built-in/bool\">Python bool()</a>          </td>\n",
    "                  <td class=\"views-field views-field-field-c-short-description\">\n",
    "            Converts a Value to Boolean           </td>\n",
    "              </tr>\n",
    "          <tr>\n",
    "                  <td class=\"views-field views-field-title\">\n",
    "            <a href=\"/python-programming/methods/built-in/dict\">Python dict()</a>          </td>\n",
    "                  <td class=\"views-field views-field-field-c-short-description\">\n",
    "            Creates a Dictionary          </td>\n",
    "              </tr>\n",
    "          <tr>\n",
    "                  <td class=\"views-field views-field-title\">\n",
    "            <a href=\"/python-programming/methods/built-in/enumerate\">Python enumerate()</a>          </td>\n",
    "                  <td class=\"views-field views-field-field-c-short-description\">\n",
    "            Returns an Enumerate Object          </td>\n",
    "              </tr>\n",
    "          <tr>\n",
    "                  <td class=\"views-field views-field-title\">\n",
    "            <a href=\"/python-programming/methods/built-in/filter\">Python filter()</a>          </td>\n",
    "                  <td class=\"views-field views-field-field-c-short-description\">\n",
    "            constructs iterator from elements which are true          </td>\n",
    "              </tr>\n",
    "          <tr>\n",
    "                  <td class=\"views-field views-field-title\">\n",
    "            <a href=\"/python-programming/methods/built-in/iter\">Python iter()</a>          </td>\n",
    "                  <td class=\"views-field views-field-field-c-short-description\">\n",
    "            returns iterator for an object          </td>\n",
    "              </tr>\n",
    "          <tr>\n",
    "                  <td class=\"views-field views-field-title\">\n",
    "            <a href=\"/python-programming/methods/built-in/len\">Python len()</a>          </td>\n",
    "                  <td class=\"views-field views-field-field-c-short-description\">\n",
    "            Returns Length of an Object          </td>\n",
    "              </tr>\n",
    "          <tr>\n",
    "                  <td class=\"views-field views-field-title\">\n",
    "            <a href=\"/python-programming/methods/built-in/max\">Python max()</a>          </td>\n",
    "                  <td class=\"views-field views-field-field-c-short-description\">\n",
    "            returns largest element          </td>\n",
    "              </tr>\n",
    "          <tr>\n",
    "                  <td class=\"views-field views-field-title\">\n",
    "            <a href=\"/python-programming/methods/built-in/min\">Python min()</a>          </td>\n",
    "                  <td class=\"views-field views-field-field-c-short-description\">\n",
    "            returns smallest element          </td>\n",
    "              </tr>\n",
    "          <tr>\n",
    "                  <td class=\"views-field views-field-title\">\n",
    "            <a href=\"/python-programming/methods/built-in/map\">Python map()</a>          </td>\n",
    "                  <td class=\"views-field views-field-field-c-short-description\">\n",
    "            Applies Function and Returns a List          </td>\n",
    "              </tr>\n",
    "          <tr>\n",
    "                  <td class=\"views-field views-field-title\">\n",
    "            <a href=\"/python-programming/methods/built-in/sorted\">Python sorted()</a>          </td>\n",
    "                  <td class=\"views-field views-field-field-c-short-description\">\n",
    "            returns sorted list from a given iterable          </td>\n",
    "              </tr>\n",
    "          <tr>\n",
    "                  <td class=\"views-field views-field-title\">\n",
    "            <a href=\"/python-programming/methods/built-in/sum\">Python sum()</a>          </td>\n",
    "                  <td class=\"views-field views-field-field-c-short-description\">\n",
    "            Add items of an Iterable          </td>\n",
    "              </tr>\n",
    "          <tr>\n",
    "                  <td class=\"views-field views-field-title\">\n",
    "            <a href=\"/python-programming/methods/built-in/zip\">Python zip()</a>          </td>\n",
    "                  <td class=\"views-field views-field-field-c-short-description\">\n",
    "            Returns an Iterator of Tuples          </td>\n",
    "              </tr>\n",
    "      </tbody>\n",
    "</table>m"
   ]
  },
  {
   "cell_type": "code",
   "execution_count": 212,
   "metadata": {},
   "outputs": [
    {
     "name": "stdout",
     "output_type": "stream",
     "text": [
      "{'apple': 3, 'banana': 5, 'cherry': 50}\n",
      "{}\n"
     ]
    }
   ],
   "source": [
    "fruitbasket = { \"apple\":3, \"banana\":5, \"cherry\":50 }\n",
    "print(fruitbasket)\n",
    "fruitbasket.clear() \n",
    "#Removes all elements of dictionary dict\n",
    "print(fruitbasket)"
   ]
  },
  {
   "cell_type": "code",
   "execution_count": 108,
   "metadata": {},
   "outputs": [
    {
     "name": "stdout",
     "output_type": "stream",
     "text": [
      "{'apple': 3, 'banana': 5, 'cherry': 50}\n"
     ]
    }
   ],
   "source": [
    "fruitbasket = { \"apple\":3, \"banana\":5, \"cherry\":50 }\n",
    "fruitsbasket2 = fruitbasket.copy()\n",
    "print(fruitsbasket2)"
   ]
  },
  {
   "cell_type": "code",
   "execution_count": 114,
   "metadata": {},
   "outputs": [
    {
     "name": "stdout",
     "output_type": "stream",
     "text": [
      "{}\n",
      "None\n",
      "3\n"
     ]
    }
   ],
   "source": [
    "result = fruitbasket.get(\"apple1\",{}) \n",
    "#For key key, returns value or default if key not in dictionary\n",
    "print(result)\n",
    "result = fruitbasket.get(\"apple2\") \n",
    "#For key key, returns value or default if key not in dictionary\n",
    "print(result)\n",
    "result = fruitbasket.get(\"apple\") \n",
    "#For key key, returns value or default if key not in dictionary\n",
    "print(result)\n",
    "\n"
   ]
  },
  {
   "cell_type": "code",
   "execution_count": 115,
   "metadata": {},
   "outputs": [
    {
     "name": "stdout",
     "output_type": "stream",
     "text": [
      "dict_items([('apple', 3), ('banana', 5), ('cherry', 50)])\n",
      "dict_values([3, 5, 50])\n",
      "dict_keys(['apple', 'banana', 'cherry'])\n"
     ]
    }
   ],
   "source": [
    "print(fruitbasket.items() )\n",
    "print(fruitbasket.values() )\n",
    "print(fruitbasket.keys() )"
   ]
  },
  {
   "cell_type": "code",
   "execution_count": 222,
   "metadata": {},
   "outputs": [
    {
     "name": "stdout",
     "output_type": "stream",
     "text": [
      "{'apple': 3, 'banana': 5, 'cherry': 50, 'apple2': 115}\n"
     ]
    },
    {
     "data": {
      "text/plain": [
       "3"
      ]
     },
     "execution_count": 222,
     "metadata": {},
     "output_type": "execute_result"
    }
   ],
   "source": [
    "fruitbasket.setdefault(\"apple2\",15)\n",
    "print(fruitbasket)\n",
    "fruitbasket.setdefault(\"apple\",6)"
   ]
  },
  {
   "cell_type": "code",
   "execution_count": 125,
   "metadata": {},
   "outputs": [
    {
     "name": "stdout",
     "output_type": "stream",
     "text": [
      "{'flower1': None, 'flower2': None, 'flower3': None, 'flower4': None, 'flower5': None, 'flower6': None}\n",
      "{'apple': 3, 'banana': 5, 'cherry': 50, 'Orange': 2}\n",
      "{'apple': 3, 'banana': 5, 'cherry': 50, 'Orange': 2, 'Apple': 101}\n",
      "{'apple': 100, 'banana': 5, 'cherry': 50, 'Orange': 2, 'Apple': 101}\n",
      "{'apple': 100, 'banana': 5, 'cherry': 50, 'Orange': 2, 'Apple': 101, 'apple1': 102}\n",
      "100\n",
      "{}\n",
      "{'apple': 100, 'banana': 5, 'cherry': 50, 'Orange': 2, 'Apple': 101, 'apple1': 102}\n"
     ]
    }
   ],
   "source": [
    "fruitbasket = { \"apple\":3, \"banana\":5, \"cherry\":50 }\n",
    "fruitbasket.setdefault(\"Orange\",2)\n",
    "a = fruitbasket.fromkeys(flowersdict)\n",
    "\n",
    "print(a)\n",
    "print(fruitbasket)\n",
    "\n",
    "fruitbasket.update({\"Apple\":101})\n",
    "print(fruitbasket)\n",
    "fruitbasket.update({\"apple\":100})\n",
    "print(fruitbasket)\n",
    "fruitbasket[\"apple1\"] = 102\n",
    "print(fruitbasket)\n",
    "print(fruitbasket[\"apple\"])\n",
    "print(fruitbasket.get(\"apple123\",{})) \n",
    "#fruitbasket.add({\"pineapple\":123})\n",
    "print(fruitbasket)"
   ]
  },
  {
   "cell_type": "code",
   "execution_count": 127,
   "metadata": {},
   "outputs": [
    {
     "name": "stdout",
     "output_type": "stream",
     "text": [
      "dict_items([('Hello', None), (1, '1')])\n",
      "{'type': 'employee', 'name': 'John', 'age': 41, 'dept': 'HR', 1: 'description1', 2: 'description2', 'joiningdate': '2019-07-29', datetime.datetime(2019, 7, 29, 10, 5, 1, 833410): 'Date of Joining with key date in date time format', '2019-07-29': 'Date of Joining with key date in string format'}\n",
      "description1\n",
      "John\n",
      "<class 'dict'>\n",
      "<built-in method copy of dict object at 0x00CBFB70>\n",
      "fetches the value of the key John\n",
      "fetches the value of the key {} if key not present returns empty dict\n",
      "type obtained from gettigng key value dict\n",
      "items in dictionary dict_items([('type', 'employee'), ('name', 'John'), ('age', 41), ('dept', 'HR'), (1, 'description1'), (2, 'description2'), ('joiningdate', '2019-07-29'), (datetime.datetime(2019, 7, 29, 10, 5, 1, 833410), 'Date of Joining with key date in date time format'), ('2019-07-29', 'Date of Joining with key date in string format')])\n",
      "keys in dictionary dict_keys(['type', 'name', 'age', 'dept', 1, 2, 'joiningdate', datetime.datetime(2019, 7, 29, 10, 5, 1, 833410), '2019-07-29'])\n",
      "{'type': 'employee', 'name': 'John', 'dept': 'HR', 1: 'description1', 2: 'description2', 'joiningdate': '2019-07-29', datetime.datetime(2019, 7, 29, 10, 5, 1, 833410): 'Date of Joining with key date in date time format', '2019-07-29': 'Date of Joining with key date in string format'}\n",
      "###############\n",
      "keys in dictionary dict_keys(['type', 'name', 'dept', 1, 2, 'joiningdate', datetime.datetime(2019, 7, 29, 10, 5, 1, 833410), '2019-07-29'])\n",
      "###############\n",
      "###############\n",
      "keys in dictionary dict_keys(['type', 'name', 'dept', 1, 2, 'joiningdate', datetime.datetime(2019, 7, 29, 10, 5, 1, 833410)])\n",
      "{'type': 'employee', 'name': 'John', 'dept': 'HR', 1: 'description1', 2: 'description2', 'joiningdate': '2019-07-29', datetime.datetime(2019, 7, 29, 10, 5, 1, 833410): 'Date of Joining with key date in date time format'}\n"
     ]
    }
   ],
   "source": [
    "dict1 = {}\n",
    "dict1.setdefault(\"Hello\", None)\n",
    "dict1.update({1:\"1\"})\n",
    "print(dict1.items())\n",
    "from datetime import datetime\n",
    "thisdict =    {\n",
    "  \"type\": \"employee\",\n",
    "  \"name\": \"John\",\n",
    "  \"age\": 41,\n",
    "  \"dept\": \"HR\",\n",
    "  1:\"description1\",\n",
    "  2: \"description2\",\n",
    "  \"joiningdate\":  datetime.now().strftime('%Y-%m-%d'),\n",
    "  datetime.now(): \"Date of Joining with key date in date time format\",\n",
    "  datetime.now().strftime('%Y-%m-%d'): \"Date of Joining with key date in string format\"\n",
    "}\n",
    "#the duplicate key is updated with new value John1\n",
    "print(thisdict)\n",
    "print(thisdict[1])\n",
    "print(thisdict.get(\"name\",\"Not Found\"))\n",
    "\n",
    "\n",
    "print(type(thisdict))\n",
    "\n",
    "b = thisdict.copy\n",
    "print(b)\n",
    "print(\"fetches the value of the key {0}\".format(thisdict.get(\"name\")))\n",
    "print(\"fetches the value of the key {0} if key not present returns empty dict\".format(thisdict.get(\"name1\",{})))\n",
    "print(\"type obtained from gettigng key value dict\".format(type(thisdict.get(\"name1\",{}))))\n",
    "print(\"items in dictionary {0}\".format(thisdict.items()))\n",
    "print(\"keys in dictionary {0}\".format(thisdict.keys()))\n",
    "thisdict.pop(\"age\")# removing the element with key age\n",
    "#thisdict.pop(\"age1\")# removing the element with key age\n",
    "print(thisdict)\n",
    "print(\"###############\")\n",
    "print(\"keys in dictionary {0}\".format(thisdict.keys()))\n",
    "print(\"###############\")\n",
    "thisdict.popitem()# removes the arbitrary element\n",
    "print(\"###############\")\n",
    "print(\"keys in dictionary {0}\".format(thisdict.keys()))\n",
    "print(thisdict)\n",
    "thisdict.clear() # clear up all the items in the dictionary\n"
   ]
  },
  {
   "cell_type": "code",
   "execution_count": null,
   "metadata": {},
   "outputs": [],
   "source": [
    "#Lets take the flowers dict for all the operations"
   ]
  },
  {
   "cell_type": "code",
   "execution_count": 232,
   "metadata": {},
   "outputs": [
    {
     "name": "stdout",
     "output_type": "stream",
     "text": [
      "{'flower1': 'Rose', 'flower2': 'Shoeflower', 'flower3': 'Tulips', 'flower4': 'Daisy', 'flower5': 'Lotus'}\n",
      "{}\n",
      "{'flower1': 'Rose', 'flower2': 'Shoeflower', 'flower3': 'Tulips', 'flower4': 'Daisy', 'flower5': 'Lotus'}\n"
     ]
    }
   ],
   "source": [
    "flowersdict = {'flower1': 'Rose', 'flower2': 'Shoeflower', 'flower3': 'Tulips', 'flower4': 'Daisy', 'flower5': 'Lotus'}\n",
    "print(flowersdict)\n",
    "#Clear operation \n",
    "flowersdict.clear()\n",
    "print(flowersdict)\n",
    "flowersdict = {'flower1': 'Rose', 'flower2': 'Shoeflower', 'flower3': 'Tulips', 'flower4': 'Daisy', 'flower5': 'Lotus'}\n",
    "print(flowersdict)"
   ]
  },
  {
   "cell_type": "code",
   "execution_count": 233,
   "metadata": {},
   "outputs": [
    {
     "name": "stdout",
     "output_type": "stream",
     "text": [
      "{'flower1': 'Rose', 'flower2': 'Shoeflower', 'flower3': 'Tulips', 'flower4': 'Daisy', 'flower5': 'Lotus'}\n",
      "{'flower1': 'Rose', 'flower2': 'Shoeflower', 'flower3': 'Tulips', 'flower4': 'Daisy', 'flower5': 'Lotus'}\n",
      "{'flower1': 'Red Rose', 'flower2': 'Shoeflower', 'flower3': 'Tulips', 'flower4': 'Daisy', 'flower5': 'Lotus'}\n"
     ]
    }
   ],
   "source": [
    "flowerlist2 =  flowersdict.copy()\n",
    "print(flowerlist2)\n",
    "flowersdict[\"flower1\"] = \"Red Rose\"\n",
    "print(flowerlist2)\n",
    "print(flowersdict)"
   ]
  },
  {
   "cell_type": "code",
   "execution_count": 128,
   "metadata": {},
   "outputs": [
    {
     "name": "stdout",
     "output_type": "stream",
     "text": [
      "fetches the value of the key Shoeflower\n",
      "fetches the value of the key {} if key not present returns empty dict\n",
      "fetches the value of the key Rose if key not present returns empty dict\n"
     ]
    }
   ],
   "source": [
    "#Get Operation\n",
    "#Retriviengi the value with key index throws error if key is not present\n",
    "a = flowersdict.get(\"flower2\")\n",
    "b = flowersdict.get(\"flower\",{})\n",
    "print(\"fetches the value of the key {0}\".format(a))\n",
    "print(\"fetches the value of the key {0} if key not present returns empty dict\".format(b))\n",
    "c = flowersdict[\"flower6\"]\n",
    "print(\"fetches the value of the key {0} if key not present returns empty dict\".format(c))"
   ]
  },
  {
   "cell_type": "code",
   "execution_count": null,
   "metadata": {},
   "outputs": [],
   "source": []
  }
 ],
 "metadata": {
  "kernelspec": {
   "display_name": "Python 3",
   "language": "python",
   "name": "python3"
  },
  "language_info": {
   "codemirror_mode": {
    "name": "ipython",
    "version": 3
   },
   "file_extension": ".py",
   "mimetype": "text/x-python",
   "name": "python",
   "nbconvert_exporter": "python",
   "pygments_lexer": "ipython3",
   "version": "3.7.4"
  }
 },
 "nbformat": 4,
 "nbformat_minor": 2
}
