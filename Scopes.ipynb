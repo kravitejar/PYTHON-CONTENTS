{
 "cells": [
  {
   "cell_type": "markdown",
   "metadata": {},
   "source": [
    "Scope\n",
    "Scope is a region of code where the value of the variable persists"
   ]
  },
  {
   "cell_type": "markdown",
   "metadata": {},
   "source": [
    "# GLOBAL AND LOCAL VARIABLES WITH IN A FUNCTION"
   ]
  },
  {
   "cell_type": "code",
   "execution_count": 1,
   "metadata": {
    "scrolled": true
   },
   "outputs": [
    {
     "name": "stdout",
     "output_type": "stream",
     "text": [
      "I am a local variable called fun inside multi= 21\n",
      "I am a global variable called fun outside multi= 6\n"
     ]
    }
   ],
   "source": [
    "fun = 6\n",
    "def multi():\n",
    "    fun = 7\n",
    "    fun = fun * 3\n",
    "    print(\"I am a local variable called fun inside multi=\",fun)\n",
    "    \n",
    "multi()\n",
    "print(\"I am a global variable called fun outside multi=\",fun)\n",
    "    "
   ]
  },
  {
   "cell_type": "raw",
   "metadata": {},
   "source": [
    " NOTE : The global variable remains 6 despite the local variable being multiplied by 3"
   ]
  }
 ],
 "metadata": {
  "kernelspec": {
   "display_name": "Python 3",
   "language": "python",
   "name": "python3"
  },
  "language_info": {
   "codemirror_mode": {
    "name": "ipython",
    "version": 3
   },
   "file_extension": ".py",
   "mimetype": "text/x-python",
   "name": "python",
   "nbconvert_exporter": "python",
   "pygments_lexer": "ipython3",
   "version": "3.7.4"
  }
 },
 "nbformat": 4,
 "nbformat_minor": 2
}
